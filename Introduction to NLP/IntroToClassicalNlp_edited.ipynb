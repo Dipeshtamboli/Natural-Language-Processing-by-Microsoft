{
  "nbformat": 4,
  "nbformat_minor": 0,
  "metadata": {
    "anaconda-cloud": {},
    "kernelspec": {
      "display_name": "Python 3",
      "language": "python",
      "name": "python3"
    },
    "language_info": {
      "codemirror_mode": {
        "name": "ipython",
        "version": 3
      },
      "file_extension": ".py",
      "mimetype": "text/x-python",
      "name": "python",
      "nbconvert_exporter": "python",
      "pygments_lexer": "ipython3",
      "version": "3.6.0"
    },
    "colab": {
      "name": "IntroToClassicalNlp.ipynb",
      "provenance": []
    }
  },
  "cells": [
    {
      "cell_type": "markdown",
      "metadata": {
        "id": "HGQ-kq48JdW-",
        "colab_type": "text"
      },
      "source": [
        "## Introduction to Classical Natural Language Processing ##\n",
        "\n",
        "This notebook is a hands-on introduction to Classical NLP, that is, non-deep learning techniques of NLP.  It is designed to be used with the edX course on Natural Language Processing, from Microsoft.  \n",
        "\n",
        "The topics covered align with the NLP tasks related to the various stages of the NLP pipeline: text processing, text exploration, building features, and application level tasks.\n"
      ]
    },
    {
      "cell_type": "markdown",
      "metadata": {
        "id": "SGpj69SUJdXB",
        "colab_type": "text"
      },
      "source": [
        "## 1. Introduction ##\n"
      ]
    },
    {
      "cell_type": "markdown",
      "metadata": {
        "id": "Uanb2O4xJdXD",
        "colab_type": "text"
      },
      "source": [
        "** 1.1 NLTK Setup  **\n",
        "   - NLTK is included with the Anaconda Distribution of Python, or can be downloaded directly from nltk.org. \n",
        "   - Once NLTK is installed, the text data files (corpora) should be downloaded.  See the following cell to start the download.\n",
        "   "
      ]
    },
    {
      "cell_type": "code",
      "metadata": {
        "id": "Awv5JBSsJdXF",
        "colab_type": "code",
        "colab": {}
      },
      "source": [
        "import nltk\n",
        "\n",
        "# uncomment the line below to download NLTK resources the first time NLTK is used and RUN this cell.\n",
        "# when the \"NLTK Downloader\" dialog appears (takes 10-20 seconds), click on the \"download\" button \n",
        "#nltk.download()"
      ],
      "execution_count": 0,
      "outputs": []
    },
    {
      "cell_type": "markdown",
      "metadata": {
        "id": "x_G-bVsQJdXM",
        "colab_type": "text"
      },
      "source": [
        "** 1.2 Crash Course in Regular Expressions **\n",
        "\n",
        "If you are new to using regular expressions, or would like a quick refresher, you can study the examples\n",
        "and resulting output in the code cell below.\n",
        "\n",
        "Here is a cheat sheet for the SEARCH BASICS (code examples follow below):\n",
        "\n",
        "    Operator   Meaning       Example  Example meaning\n",
        "    \n",
        "    +          one or more   a+       look for 1 or more \"a\" characters \n",
        "    *          zero or more  a*       look for 0 or more \"a\" characters\n",
        "    ?          optional      a?       look for 0 or 1 \"a\" characters\n",
        "    []         choose 1      [abc]    look for \"a\" or \"b\" or \"c\"\n",
        "    [-]        range         [a-z]    look for any character between \"a\" and \"z\"\n",
        "    [^]        not           [^a]     look for character that is not \"a\"\n",
        "    ()         grouping      (a-z)+   look for one of more occurences of chars between \"a\" and \"z\"\n",
        "    (|)        or operator   (ey|ax)  look for strings \"ey\" or \"ax\"\n",
        "    \n",
        "    ab         follow        ab       look for character \"a\" followed by character \"b\"\n",
        "    ^          start         ^a       look for character \"a\" at start of string/line\n",
        "    $          end           a$       look for character \"a\" at end of string/line\n",
        "    \\s         whitespace    \\sa      look for whitespace character followed by \"a\"\n",
        "    .          any character a.b      look for \"a\" followed by any char followed by \"b\"\n",
        "    \n",
        "Common Uses:\n",
        "   - re.search     finds first matching object\n",
        "   - re.findall    returns all matching objects\n",
        "   - re.sub        replaces matches with replacement string\n",
        "    "
      ]
    },
    {
      "cell_type": "code",
      "metadata": {
        "id": "DuHOcZQEJdXN",
        "colab_type": "code",
        "colab": {
          "base_uri": "https://localhost:8080/",
          "height": 34
        },
        "outputId": "9ffc4fc4-d97d-474b-b458-c5a384e63bf7"
      },
      "source": [
        "import re\n",
        "\n",
        "# search for single char\n",
        "re.search(r\"x\", \"this is an extra helping\")"
      ],
      "execution_count": 2,
      "outputs": [
        {
          "output_type": "execute_result",
          "data": {
            "text/plain": [
              "<_sre.SRE_Match object; span=(12, 13), match='x'>"
            ]
          },
          "metadata": {
            "tags": []
          },
          "execution_count": 2
        }
      ]
    },
    {
      "cell_type": "code",
      "metadata": {
        "id": "ARm6YCAkJdXY",
        "colab_type": "code",
        "colab": {
          "base_uri": "https://localhost:8080/",
          "height": 34
        },
        "outputId": "66bfded3-b103-4b89-ac9a-4b6da703bcd5"
      },
      "source": [
        "# search for single char\n",
        "re.search(r\"x\", \"this is an extra helping\").group(0)     # gives easier-to-read output"
      ],
      "execution_count": 3,
      "outputs": [
        {
          "output_type": "execute_result",
          "data": {
            "text/plain": [
              "'x'"
            ]
          },
          "metadata": {
            "tags": []
          },
          "execution_count": 3
        }
      ]
    },
    {
      "cell_type": "code",
      "metadata": {
        "id": "ZKW3j534JdXf",
        "colab_type": "code",
        "colab": {
          "base_uri": "https://localhost:8080/",
          "height": 34
        },
        "outputId": "300c71a4-afa5-4a72-c369-0e5df09e81c9"
      },
      "source": [
        "# find all occurences of any character between \"a\" and \"z\"\n",
        "re.findall(r\"[a-z]\", \"$34.33 cash.\")"
      ],
      "execution_count": 4,
      "outputs": [
        {
          "output_type": "execute_result",
          "data": {
            "text/plain": [
              "['c', 'a', 's', 'h']"
            ]
          },
          "metadata": {
            "tags": []
          },
          "execution_count": 4
        }
      ]
    },
    {
      "cell_type": "code",
      "metadata": {
        "id": "s-ql97K5JdXm",
        "colab_type": "code",
        "colab": {
          "base_uri": "https://localhost:8080/",
          "height": 34
        },
        "outputId": "eab785e6-5108-48b5-af97-16c43328c902"
      },
      "source": [
        "# find all occurences of either \"name:\" or \"phone:\"\n",
        "re.findall(r\"(name|phone):\", \"My name: Joe, my phone: (312)555-1212\")"
      ],
      "execution_count": 5,
      "outputs": [
        {
          "output_type": "execute_result",
          "data": {
            "text/plain": [
              "['name', 'phone']"
            ]
          },
          "metadata": {
            "tags": []
          },
          "execution_count": 5
        }
      ]
    },
    {
      "cell_type": "code",
      "metadata": {
        "id": "LE9wNmftJdXr",
        "colab_type": "code",
        "colab": {
          "base_uri": "https://localhost:8080/",
          "height": 34
        },
        "outputId": "f253ea4f-de8c-4d31-bfd2-763ce95c6c37"
      },
      "source": [
        "# find \"lion\", \"lions\" or \"Lion\", or \"Lions\"\n",
        "re.findall(r\"([Ll]ion)s?\", \"Give it to the Lions or the lion.\")"
      ],
      "execution_count": 6,
      "outputs": [
        {
          "output_type": "execute_result",
          "data": {
            "text/plain": [
              "['Lion', 'lion']"
            ]
          },
          "metadata": {
            "tags": []
          },
          "execution_count": 6
        }
      ]
    },
    {
      "cell_type": "code",
      "metadata": {
        "id": "DFhcWthbJdXy",
        "colab_type": "code",
        "colab": {
          "base_uri": "https://localhost:8080/",
          "height": 34
        },
        "outputId": "b7ab6ac1-c4d7-4ddd-d030-326dce949788"
      },
      "source": [
        "# replace allll lowercase letters with \"x\"\n",
        "re.sub(\"[a-z]\", \"x\", \"Hey.  I know this regex stuff...\")"
      ],
      "execution_count": 7,
      "outputs": [
        {
          "output_type": "execute_result",
          "data": {
            "text/plain": [
              "'Hxx.  I xxxx xxxx xxxxx xxxxx...'"
            ]
          },
          "metadata": {
            "tags": []
          },
          "execution_count": 7
        }
      ]
    },
    {
      "cell_type": "markdown",
      "metadata": {
        "id": "93m4DjVBJdX5",
        "colab_type": "text"
      },
      "source": [
        "## 2. Text Processing ##\n",
        "\n",
        "This section introduces some of the tasks and techniques used to acquire, clean, and normalize the text data."
      ]
    },
    {
      "cell_type": "markdown",
      "metadata": {
        "id": "dTbfPtWPJdX6",
        "colab_type": "text"
      },
      "source": [
        "** 2.1 Data Acquisition **\n",
        "\n",
        "Issues:\n",
        "   - how do I find the data I need?\n",
        "   - is it already in digital form, or will it need OCR?\n",
        "   - how much will it cost?  \n",
        "   - will it be updated/expanded over time?  More costs?\n",
        "   - (if CUSTOMER DATA), do I have the legal / privacy rights needed to use the data in the way I need for my application? \n",
        "   - do I have the safeguards needed to securely store the data?\n",
        "  \n"
      ]
    },
    {
      "cell_type": "code",
      "metadata": {
        "id": "2SUvQjegJdX7",
        "colab_type": "code",
        "colab": {
          "base_uri": "https://localhost:8080/",
          "height": 54
        },
        "outputId": "8a103014-6eea-41e2-b68a-e4ff0475e195"
      },
      "source": [
        "# import nltk\n",
        "# nltk.download('gutenberg')\n",
        "# shows how to access one of the gutenberg books included in NLTK\n",
        "print(\"gutenberg book ids=\", nltk.corpus.gutenberg.fileids())"
      ],
      "execution_count": 10,
      "outputs": [
        {
          "output_type": "stream",
          "text": [
            "gutenberg book ids= ['austen-emma.txt', 'austen-persuasion.txt', 'austen-sense.txt', 'bible-kjv.txt', 'blake-poems.txt', 'bryant-stories.txt', 'burgess-busterbrown.txt', 'carroll-alice.txt', 'chesterton-ball.txt', 'chesterton-brown.txt', 'chesterton-thursday.txt', 'edgeworth-parents.txt', 'melville-moby_dick.txt', 'milton-paradise.txt', 'shakespeare-caesar.txt', 'shakespeare-hamlet.txt', 'shakespeare-macbeth.txt', 'whitman-leaves.txt']\n"
          ],
          "name": "stdout"
        }
      ]
    },
    {
      "cell_type": "code",
      "metadata": {
        "id": "0GUVOgNEJdYB",
        "colab_type": "code",
        "colab": {
          "base_uri": "https://localhost:8080/",
          "height": 71
        },
        "outputId": "287901fb-778c-41b9-bfbe-30166dc64d29"
      },
      "source": [
        "# load words from \"Alice in Wonderland\"\n",
        "\n",
        "alice = nltk.corpus.gutenberg.words(\"carroll-alice.txt\")\n",
        "print(\"len(alice)=\", len(alice))\n",
        "print(alice[:100])"
      ],
      "execution_count": 11,
      "outputs": [
        {
          "output_type": "stream",
          "text": [
            "len(alice)= 34110\n",
            "['[', 'Alice', \"'\", 's', 'Adventures', 'in', 'Wonderland', 'by', 'Lewis', 'Carroll', '1865', ']', 'CHAPTER', 'I', '.', 'Down', 'the', 'Rabbit', '-', 'Hole', 'Alice', 'was', 'beginning', 'to', 'get', 'very', 'tired', 'of', 'sitting', 'by', 'her', 'sister', 'on', 'the', 'bank', ',', 'and', 'of', 'having', 'nothing', 'to', 'do', ':', 'once', 'or', 'twice', 'she', 'had', 'peeped', 'into', 'the', 'book', 'her', 'sister', 'was', 'reading', ',', 'but', 'it', 'had', 'no', 'pictures', 'or', 'conversations', 'in', 'it', ',', \"'\", 'and', 'what', 'is', 'the', 'use', 'of', 'a', 'book', \",'\", 'thought', 'Alice', \"'\", 'without', 'pictures', 'or', 'conversation', \"?'\", 'So', 'she', 'was', 'considering', 'in', 'her', 'own', 'mind', '(', 'as', 'well', 'as', 'she', 'could', ',']\n"
          ],
          "name": "stdout"
        }
      ]
    },
    {
      "cell_type": "code",
      "metadata": {
        "id": "1ID6fZWQJdYF",
        "colab_type": "code",
        "colab": {
          "base_uri": "https://localhost:8080/",
          "height": 71
        },
        "outputId": "94ce6f19-ef6d-4012-f503-8be4da2a216c"
      },
      "source": [
        "# load words from \"Monty Python and the Holy Grail\"\n",
        "# nltk.download('webtext')\n",
        "grail = nltk.corpus.webtext.words(\"grail.txt\")\n",
        "print(\"len(grail)=\", len(grail))\n",
        "\n",
        "print(grail[:100])"
      ],
      "execution_count": 14,
      "outputs": [
        {
          "output_type": "stream",
          "text": [
            "len(grail)= 16967\n",
            "['SCENE', '1', ':', '[', 'wind', ']', '[', 'clop', 'clop', 'clop', ']', 'KING', 'ARTHUR', ':', 'Whoa', 'there', '!', '[', 'clop', 'clop', 'clop', ']', 'SOLDIER', '#', '1', ':', 'Halt', '!', 'Who', 'goes', 'there', '?', 'ARTHUR', ':', 'It', 'is', 'I', ',', 'Arthur', ',', 'son', 'of', 'Uther', 'Pendragon', ',', 'from', 'the', 'castle', 'of', 'Camelot', '.', 'King', 'of', 'the', 'Britons', ',', 'defeator', 'of', 'the', 'Saxons', ',', 'sovereign', 'of', 'all', 'England', '!', 'SOLDIER', '#', '1', ':', 'Pull', 'the', 'other', 'one', '!', 'ARTHUR', ':', 'I', 'am', ',', '...', 'and', 'this', 'is', 'my', 'trusty', 'servant', 'Patsy', '.', 'We', 'have', 'ridden', 'the', 'length', 'and', 'breadth', 'of', 'the', 'land', 'in']\n"
          ],
          "name": "stdout"
        }
      ]
    },
    {
      "cell_type": "markdown",
      "metadata": {
        "id": "RDLfQdYhJdYO",
        "colab_type": "text"
      },
      "source": [
        "** 2.2 Plain Text Extraction **\n",
        "\n",
        "If your text data lives in a non-plain text file (WORD, POWERPOINT, PDF, HTML, etc.), you will need to use a “filter” to extract the plain text from the file.\n",
        "\n",
        "Python has a number of libraries to extract plain text from popular file formats, but they are take searching and supporting code to use.  "
      ]
    },
    {
      "cell_type": "markdown",
      "metadata": {
        "id": "gvHoZlj3JdYP",
        "colab_type": "text"
      },
      "source": [
        "** 2.3 Word and Sentence Segmentation (Tokenization) **\n",
        "\n",
        "Word Segmentation Issues:\n",
        "   - Some languages don’t white space characters\n",
        "   - Words with hyphens or apostrophes (Who’s at the drive-in?)\n",
        "   - Numbers, currency, percentages, dates, times (04/01/2018, $55,000.00)\n",
        "   - Ellipses, special characters\n",
        "   \n",
        "Sentence Segmentation Issues:\n",
        "   - Quoted speech within a sentence\n",
        "   - Abbreviations with periods (The Ph.D. was D.O.A) \n",
        "\n",
        "Tokenization Techniques  \n",
        "   - Perl script (50 lines) with RegEx         (Grefenstette, 1999)  \n",
        "   - maxmatch Algorithm: \n",
        "\n",
        "         themanranafterit  ->    the man ran after it  \n",
        "         thetabledownthere ->    theta bled own there      (Palmer, 2000)  \n",
        "   "
      ]
    },
    {
      "cell_type": "code",
      "metadata": {
        "id": "2UMmwQm3JdYQ",
        "colab_type": "code",
        "colab": {
          "base_uri": "https://localhost:8080/",
          "height": 51
        },
        "outputId": "977e4a53-8cf1-42cc-e76b-c389a01cf00c"
      },
      "source": [
        "# code example: simple version of maxmatch algorithm for tokenization (word segmentation)\n",
        "def tokenize(str, dict):\n",
        "    s = 0\n",
        "    words = []\n",
        "    \n",
        "    while (s < len(str)):\n",
        "        found = False\n",
        "        \n",
        "        # find biggest word in dict that matches str[s:xxx]\n",
        "        for word in dict:\n",
        "            lw = len(word)\n",
        "            if (str[s:s+lw] == word):\n",
        "                words.append(word)\n",
        "                s += lw\n",
        "                found = True\n",
        "                break\n",
        "        if (not found):\n",
        "            words.append(str[s])\n",
        "            s += 1\n",
        "\n",
        "    print(words)\n",
        "    #return words\n",
        "\n",
        "# small dictionary of known words, longest words first\n",
        "dict = [\"before\", \"table\", \"theta\", \"after\", \"where\", \"there\", \"bled\", \"said\", \"lead\", \"man\", \"her\", \"own\", \"the\", \"ran\", \"it\"]\n",
        "\n",
        "# this algorithm is designed to work with languages that don't have whitespace characters\n",
        "# so simulate that in our test\n",
        "tokenize(\"themanranafterit\", dict)      # works!\n",
        "tokenize(\"thetabledownthere\", dict)     # fails! It should be \"the table down there\""
      ],
      "execution_count": 15,
      "outputs": [
        {
          "output_type": "stream",
          "text": [
            "['the', 'man', 'ran', 'after', 'it']\n",
            "['theta', 'bled', 'own', 'there']\n"
          ],
          "name": "stdout"
        }
      ]
    },
    {
      "cell_type": "code",
      "metadata": {
        "id": "L3KX9-0PJdYV",
        "colab_type": "code",
        "colab": {
          "base_uri": "https://localhost:8080/",
          "height": 255
        },
        "outputId": "a29028fa-6a8d-41f2-e570-fd7af638a934"
      },
      "source": [
        "# NLTK example: WORD segmentation\n",
        "# nltk.download('punkt')\n",
        "nltk.word_tokenize(\"the man, he ran after it's $3.23 dog on 03/23/2016.\")\n"
      ],
      "execution_count": 18,
      "outputs": [
        {
          "output_type": "execute_result",
          "data": {
            "text/plain": [
              "['the',\n",
              " 'man',\n",
              " ',',\n",
              " 'he',\n",
              " 'ran',\n",
              " 'after',\n",
              " 'it',\n",
              " \"'s\",\n",
              " '$',\n",
              " '3.23',\n",
              " 'dog',\n",
              " 'on',\n",
              " '03/23/2016',\n",
              " '.']"
            ]
          },
          "metadata": {
            "tags": []
          },
          "execution_count": 18
        }
      ]
    },
    {
      "cell_type": "code",
      "metadata": {
        "id": "EhC4h6BTJdYZ",
        "colab_type": "code",
        "colab": {
          "base_uri": "https://localhost:8080/",
          "height": 34
        },
        "outputId": "b6322ac7-e13e-4e62-b1b2-18372eaddb13"
      },
      "source": [
        "# NLTK example: SENTENCE segmentation\n",
        "\n",
        "nltk.sent_tokenize('The man ran after it.  The table down there?  Yes, down there!')"
      ],
      "execution_count": 19,
      "outputs": [
        {
          "output_type": "execute_result",
          "data": {
            "text/plain": [
              "['The man ran after it.', 'The table down there?', 'Yes, down there!']"
            ]
          },
          "metadata": {
            "tags": []
          },
          "execution_count": 19
        }
      ]
    },
    {
      "cell_type": "markdown",
      "metadata": {
        "id": "Y4E86ogEJdYe",
        "colab_type": "text"
      },
      "source": [
        "** 2.4 Stopword Removal **\n",
        "\n",
        "Stopwords are common words that are \"not interesting\" for the app/task at hand.  \n",
        "\n",
        "Easy part – removing words that appear in list.  \n",
        "Tricky part – what to use for stop words?  App-dependent.  Standard lists, high-frequency words in your text, …  "
      ]
    },
    {
      "cell_type": "code",
      "metadata": {
        "id": "N55Z5rijJdYf",
        "colab_type": "code",
        "colab": {
          "base_uri": "https://localhost:8080/",
          "height": 34
        },
        "outputId": "5800bf7e-4d3a-4697-d8dc-fb0d84defa3f"
      },
      "source": [
        "# code example: simple algorithm for removing stopwords\n",
        "stoppers = \"a is of the this code.\".split() # see the differenc where full stop is included and not included\n",
        "# stoppers = \"a is of the this code\".split()\n",
        "# stoppers = \"a is of the this\".split()\n",
        "\n",
        "def removeStopWords(stopWords, txt):\n",
        "    newtxt = ' '.join([word for word in txt.split() if word not in stopWords])\n",
        "    return newtxt\n",
        "\n",
        "removeStopWords(stoppers, \"this is a test of the stop word removal code.\")"
      ],
      "execution_count": 26,
      "outputs": [
        {
          "output_type": "execute_result",
          "data": {
            "text/plain": [
              "'test stop word removal'"
            ]
          },
          "metadata": {
            "tags": []
          },
          "execution_count": 26
        }
      ]
    },
    {
      "cell_type": "code",
      "metadata": {
        "id": "IJP3U3sIJdYj",
        "colab_type": "code",
        "colab": {
          "base_uri": "https://localhost:8080/",
          "height": 51
        },
        "outputId": "3530085e-d39b-458f-fe7d-0f8b97ec7b94"
      },
      "source": [
        "# NLTK example: removing stopwords\n",
        "# nltk.download('stopwords')\n",
        "from nltk.corpus import stopwords\n",
        "# stops = stopwords.words(\"English\")\n",
        "stops = stopwords.words(\"english\") # note that here I have changed the \"English\" to all lower case\n",
        "\n",
        "print(\"len(stops)=\", len(stops))\n",
        "\n",
        "# removeStopWords(stops, \"this is a test of the stop word removal code.\")\n",
        "removeStopWords(stops, \"note that here I have changed the English to all lower case\")\n",
        "removeStopWords(stops, \"Case removal is part of a larger task called Text Normalization, which includes:\")"
      ],
      "execution_count": 33,
      "outputs": [
        {
          "output_type": "stream",
          "text": [
            "len(stops)= 179\n"
          ],
          "name": "stdout"
        },
        {
          "output_type": "execute_result",
          "data": {
            "text/plain": [
              "'Case removal part larger task called Text Normalization, includes:'"
            ]
          },
          "metadata": {
            "tags": []
          },
          "execution_count": 33
        }
      ]
    },
    {
      "cell_type": "markdown",
      "metadata": {
        "id": "7s75PsP-JdYo",
        "colab_type": "text"
      },
      "source": [
        "** 2.5 Case Removal **\n",
        "\n",
        "Case removal is part of a larger task called *Text Normalization*, which includes:\n",
        "   - case removal\n",
        "   - stemming   (covered in next section)\n",
        "   \n",
        "Goal of Case removal – converting all text to, for example, lower case  "
      ]
    },
    {
      "cell_type": "code",
      "metadata": {
        "id": "m67uJ4UlJdYq",
        "colab_type": "code",
        "colab": {
          "base_uri": "https://localhost:8080/",
          "height": 34
        },
        "outputId": "79a4c68d-6e6e-4bf6-9b57-37b81182c93b"
      },
      "source": [
        "# code example: case removal\n",
        "str = 'The man ran after it.  The table down there?  Yes, down there!'\n",
        "str.lower()"
      ],
      "execution_count": 34,
      "outputs": [
        {
          "output_type": "execute_result",
          "data": {
            "text/plain": [
              "'the man ran after it.  the table down there?  yes, down there!'"
            ]
          },
          "metadata": {
            "tags": []
          },
          "execution_count": 34
        }
      ]
    },
    {
      "cell_type": "markdown",
      "metadata": {
        "id": "GDBoLjFKJdYv",
        "colab_type": "text"
      },
      "source": [
        "** 2.6 Stemming **\n",
        "   \n",
        "Goal of Stemming:\n",
        "    – stripping off endings and other pieces, called AFFIXES \n",
        "    – for English, this is prefixes and suffixes. \n",
        "    - convert word to its base word, called the LEMMA / STEM (e.g., foxes -> fox)\n",
        "    \n",
        "Porter Stemmer\n",
        "  - 100+ cascading “rewrite” rules  \n",
        "    ational  -> ate    \t(e.g., relational -> relate)  \n",
        "    ing\t     -> <null>\t(e.g., playing -> play)  \n",
        "    sess     -> ss  \t(e.g., grasses -> grass)  \n",
        "   \n"
      ]
    },
    {
      "cell_type": "code",
      "metadata": {
        "id": "_Z0h9HYCJdYw",
        "colab_type": "code",
        "colab": {
          "base_uri": "https://localhost:8080/",
          "height": 68
        },
        "outputId": "912acd43-dd60-4cba-d25e-241b165d1987"
      },
      "source": [
        "# NLTK example: stemming\n",
        "\n",
        "def stem_with_porter(words):\n",
        "    porter = nltk.PorterStemmer()\n",
        "    new_words = [porter.stem(w) for w in words]\n",
        "    return new_words\n",
        "    \n",
        "def stem_with_lancaster(words):\n",
        "    porter = nltk.LancasterStemmer()\n",
        "    new_words = [porter.stem(w) for w in words]\n",
        "    return new_words    \n",
        "    \n",
        "str = \"Please don't unbuckle your seat-belt while I am driving, he said\"\n",
        "\n",
        "print(\"porter:\", stem_with_porter(str.split()))\n",
        "print()\n",
        "print(\"lancaster:\", stem_with_lancaster(str.split()))\n"
      ],
      "execution_count": 35,
      "outputs": [
        {
          "output_type": "stream",
          "text": [
            "porter: ['pleas', \"don't\", 'unbuckl', 'your', 'seat-belt', 'while', 'I', 'am', 'driving,', 'he', 'said']\n",
            "\n",
            "lancaster: ['pleas', \"don't\", 'unbuckl', 'yo', 'seat-belt', 'whil', 'i', 'am', 'driving,', 'he', 'said']\n"
          ],
          "name": "stdout"
        }
      ]
    },
    {
      "cell_type": "markdown",
      "metadata": {
        "id": "iHxEx_94JdY0",
        "colab_type": "text"
      },
      "source": [
        "## 3. Text Exploration ##\n"
      ]
    },
    {
      "cell_type": "markdown",
      "metadata": {
        "id": "SC2qzp01JdY1",
        "colab_type": "text"
      },
      "source": [
        "** 3.1 Frequency Analysis **\n",
        "\n",
        "  - Frequency Analysis\n",
        "  - Letter\n",
        "  - Word\n",
        "  - Bigrams\n",
        "  - Plots\n"
      ]
    },
    {
      "cell_type": "code",
      "metadata": {
        "id": "R7Jum7GZJdY1",
        "colab_type": "code",
        "colab": {
          "base_uri": "https://localhost:8080/",
          "height": 334
        },
        "outputId": "6e3454c0-4647-4dea-d4f6-e0ab4906fc1f"
      },
      "source": [
        "# NLTK example: frequence analysis\n",
        "import nltk\n",
        "from nltk.corpus import gutenberg\n",
        "from nltk.probability import FreqDist\n",
        "\n",
        "# get raw text from \"Sense and Sensibility\" by Jane Austen\n",
        "raw = gutenberg.raw(\"austen-sense.txt\")\n",
        "fd_letters = FreqDist(raw)\n",
        "\n",
        "words = gutenberg.words(\"austen-sense.txt\")\n",
        "fd_words = FreqDist(words)\n",
        "sas = nltk.Text(words)\n",
        "\n",
        "# these 2 lines let us size the freq dist plot\n",
        "import matplotlib.pyplot as plt\n",
        "plt.figure(figsize=(20, 5)) \n",
        "\n",
        "# frequency plot for letters from SAS\n",
        "fd_letters.plot(100)\n",
        "\n",
        "# plt.figure(figsize=(20, 5)) \n",
        "# fd_words.plot(100)\n",
        "\n",
        "# plt.figure(figsize=(20, 5)) \n",
        "# sas.plot(100)"
      ],
      "execution_count": 42,
      "outputs": [
        {
          "output_type": "display_data",
          "data": {
            "image/png": "[encoded data removed]",
            "text/plain": [
              "<Figure size 1440x360 with 1 Axes>"
            ]
          },
          "metadata": {
            "tags": [],
            "needs_background": "light"
          }
        }
      ]
    },
    {
      "cell_type": "code",
      "metadata": {
        "id": "ONulV9zVJdY5",
        "colab_type": "code",
        "colab": {
          "base_uri": "https://localhost:8080/",
          "height": 370
        },
        "outputId": "835e43f1-0a5e-412f-a6a7-dafe0d4efb3e"
      },
      "source": [
        "# these 2 lines let us size the freq dist plot\n",
        "import matplotlib.pyplot as plt\n",
        "plt.figure(figsize=(20, 5)) \n",
        "\n",
        "# frequency plot for words from SAS\n",
        "fd_words.plot(50)"
      ],
      "execution_count": 40,
      "outputs": [
        {
          "output_type": "display_data",
          "data": {
            "image/png": "[encoded data removed]",
            "text/plain": [
              "<Figure size 1440x360 with 1 Axes>"
            ]
          },
          "metadata": {
            "tags": [],
            "needs_background": "light"
          }
        }
      ]
    },
    {
      "cell_type": "markdown",
      "metadata": {
        "id": "mGPJCUqBJdY9",
        "colab_type": "text"
      },
      "source": [
        "** 3.2 Collocations **\n",
        "\n",
        "These are interesting word pairs, usually formed by the most common bigrams.  Bigrams are collections of word pairs that occur together in the text. "
      ]
    },
    {
      "cell_type": "code",
      "metadata": {
        "id": "-GIFw4CGJdY-",
        "colab_type": "code",
        "colab": {
          "base_uri": "https://localhost:8080/",
          "height": 85
        },
        "outputId": "4969278b-bcc2-4ba1-a98c-64408b1d1c02"
      },
      "source": [
        "# let's look at collocations for our \"Sense and Sensibility\" text\n",
        "sas.collocations() "
      ],
      "execution_count": 41,
      "outputs": [
        {
          "output_type": "stream",
          "text": [
            "Colonel Brandon; Sir John; Lady Middleton; Miss Dashwood; every thing;\n",
            "thousand pounds; dare say; Miss Steeles; said Elinor; Miss Steele;\n",
            "every body; John Dashwood; great deal; Harley Street; Berkeley Street;\n",
            "Miss Dashwoods; young man; Combe Magna; every day; next morning\n"
          ],
          "name": "stdout"
        }
      ]
    },
    {
      "cell_type": "markdown",
      "metadata": {
        "id": "wuBk66-1JdZC",
        "colab_type": "text"
      },
      "source": [
        "Nice!  \n",
        "\n",
        "Now we are getting a feel for the language and subjects of the text."
      ]
    },
    {
      "cell_type": "markdown",
      "metadata": {
        "id": "orkV-fWBRylx",
        "colab_type": "text"
      },
      "source": [
        ""
      ]
    },
    {
      "cell_type": "markdown",
      "metadata": {
        "id": "f2mKNIpLSICA",
        "colab_type": "text"
      },
      "source": [
        "** 3.3 Long words **\n",
        "\n",
        "Sometimes looking at the long words in a text can be revealing.  Let's try it on sas."
      ]
    },
    {
      "cell_type": "code",
      "metadata": {
        "id": "ybuLYpI8JdZH",
        "colab_type": "code",
        "colab": {
          "base_uri": "https://localhost:8080/",
          "height": 272
        },
        "outputId": "2b9bcfdf-7971-4634-c8bc-57b47c96306f"
      },
      "source": [
        "# let's look at long words in the text\n",
        "longWords = [w for w in set(words) if len(w) > 14]\n",
        "longWords[:15]"
      ],
      "execution_count": 47,
      "outputs": [
        {
          "output_type": "execute_result",
          "data": {
            "text/plain": [
              "['conscientiously',\n",
              " 'dissatisfaction',\n",
              " 'enfranchisement',\n",
              " 'misconstruction',\n",
              " 'acknowledgments',\n",
              " 'congratulations',\n",
              " 'representations',\n",
              " 'connoisseurship',\n",
              " 'misapprehension',\n",
              " 'unobtrusiveness',\n",
              " 'companionableness',\n",
              " 'instantaneously',\n",
              " 'disrespectfully',\n",
              " 'proportionately',\n",
              " 'inconsiderately']"
            ]
          },
          "metadata": {
            "tags": []
          },
          "execution_count": 47
        }
      ]
    },
    {
      "cell_type": "markdown",
      "metadata": {
        "id": "HnRK3ZlGJdZO",
        "colab_type": "text"
      },
      "source": [
        "** 3.3 Concordance Views **\n",
        "\n",
        "Concordance views, also called Keywords in Context (KWIC), show the specifed word with the words that surround it in text.  These views can be helpful in understaning how the words are being used in the text.\n",
        "\n",
        "\n"
      ]
    },
    {
      "cell_type": "code",
      "metadata": {
        "id": "p4HrfuKNJdZP",
        "colab_type": "code",
        "colab": {
          "base_uri": "https://localhost:8080/",
          "height": 646
        },
        "outputId": "9a54d649-e68e-408d-e7aa-69b1f3220f06"
      },
      "source": [
        "# Let's try looking at some of these recent words in a Concordance view\n",
        "sas.concordance(\"affectionately\")\n",
        "print()\n",
        "\n",
        "sas.concordance(\"correspondence\")\n",
        "print()\n",
        "\n",
        "sas.concordance(\"dare\")\n",
        "print()\n"
      ],
      "execution_count": 48,
      "outputs": [
        {
          "output_type": "stream",
          "text": [
            "Displaying 2 of 2 matches:\n",
            "before . She took them all most affectionately by the hand , and expressed gre\n",
            "ed , took her hand , kissed her affectionately several times , and then gave w\n",
            "\n",
            "Displaying 4 of 4 matches:\n",
            "ould not be maintained if their correspondence were to pass through Sir John '\n",
            "ve been Edward ' s gift ; but a correspondence between them by letter , could \n",
            "she had no doubt , and of their correspondence she was not astonished to hear \n",
            "e of Edward afforded her by the correspondence , for his name was not even men\n",
            "\n",
            "Displaying 25 of 36 matches:\n",
            " not know what he was talking of , I dare say ; ten to one but he was light - \n",
            "l . The assistance he thought of , I dare say , was only such as might be reas\n",
            "g , if I have plenty of money , as I dare say I shall , we may think about bui\n",
            ", you will make conquests enough , I dare say , one way or other . Poor Brando\n",
            "e . He is the curate of the parish I dare say .\" \" No , THAT he is not . He is\n",
            "m . He was afraid of catching cold I dare say , and invented this trick for ge\n",
            "ve it in my power to return , that I dare not engage for it at all .\" \" Oh ! h\n",
            "and as like him as she can stare . I dare say the Colonel will leave her all h\n",
            "t Miss Williams and , by the bye , I dare say it is , because he looked so con\n",
            " \" are of such a nature -- that -- I dare not flatter myself \"-- He stopt . Mr\n",
            "nd MY wealth are very much alike , I dare say ; and without them , as the worl\n",
            " unites beauty with utility -- and I dare say it is a picturesque one too , be\n",
            ", you know . Not above ten miles , I dare say .\" \" Much nearer thirty ,\" said \n",
            "h my uncle at Weymouth . However , I dare say we should have seen a great deal\n",
            "t if mama had not objected to it , I dare say he would have liked it of all th\n",
            "ill think my question an odd one , I dare say ,\" said Lucy to her one day , as\n",
            "an inquiry into her character .\" \" I dare say you are , and I am sure I do not\n",
            "ave had no idea of it before ; for I dare say he never dropped the smallest hi\n",
            "or she would never approve of it , I dare say . I shall have no fortune , and \n",
            " to Elinor . \" You know his hand , I dare say , a charming one it is ; but tha\n",
            "o well as usual .-- He was tired , I dare say , for he had just filled the she\n",
            "talking of their favourite beaux , I dare say .\" \" No sister ,\" cried Lucy , \"\n",
            "ng significantly round at them , \" I dare say Lucy ' s beau is quite as modest\n",
            " , for you are a party concerned . I dare say you have seen enough of Edward t\n",
            "h pleasure to meet you there ! But I dare say you will go for all that . To be\n",
            "\n"
          ],
          "name": "stdout"
        }
      ]
    },
    {
      "cell_type": "markdown",
      "metadata": {
        "id": "cugY9sl2JdZU",
        "colab_type": "text"
      },
      "source": [
        "** 3.4 Other Exploration Task/Views **"
      ]
    },
    {
      "cell_type": "code",
      "metadata": {
        "id": "MVhjh_j7JdZV",
        "colab_type": "code",
        "colab": {
          "base_uri": "https://localhost:8080/",
          "height": 51
        },
        "outputId": "eeb872e7-d035-4f04-faa7-fdfaf55dd243"
      },
      "source": [
        "# look at words similiar to a word\n",
        "sas.similar(\"affection\")"
      ],
      "execution_count": 49,
      "outputs": [
        {
          "output_type": "stream",
          "text": [
            "attention time regard mother love heart opinion sister wishes wife\n",
            "arrival marianne kindness family it marriage sisters sake conduct mind\n"
          ],
          "name": "stdout"
        }
      ]
    },
    {
      "cell_type": "code",
      "metadata": {
        "id": "Gt-0FwodJdZZ",
        "colab_type": "code",
        "colab": {
          "base_uri": "https://localhost:8080/",
          "height": 295
        },
        "outputId": "158017e2-dcce-48fb-fe9a-95ccde65a37f"
      },
      "source": [
        "# these 2 lines let us size the freq dist plot\n",
        "import matplotlib.pyplot as plt\n",
        "plt.figure(figsize=(15, 4)) \n",
        "\n",
        "# look at words as they appear over time in the book/document\n",
        "sas.dispersion_plot([\"sense\", \"love\", \"heart\", \"listen\", \"man\", \"woman\"])"
      ],
      "execution_count": 50,
      "outputs": [
        {
          "output_type": "display_data",
          "data": {
            "image/png": "[encoded data removed]",
            "text/plain": [
              "<Figure size 1080x288 with 1 Axes>"
            ]
          },
          "metadata": {
            "tags": [],
            "needs_background": "light"
          }
        }
      ]
    },
    {
      "cell_type": "markdown",
      "metadata": {
        "id": "IIpItgAtJdZe",
        "colab_type": "text"
      },
      "source": [
        "## 4. Building Features ##"
      ]
    },
    {
      "cell_type": "markdown",
      "metadata": {
        "id": "_QcIpJSBJdZf",
        "colab_type": "text"
      },
      "source": [
        "** 4.1 Bag-of-Words (BOW) **\n",
        "\n",
        "One of the simplest features when dealing with multiple texts (like multiple documents, or multiple sentences within a document), is called Bag-of-Words.  It builds a vocabular from each word in the set of texts, and then a feature for each word, indicate the presence/absence of that word within each text. Sometimes, the count of the word is used in place of a presence flag.\n",
        "\n",
        "A common way to represent a set of features like this is called a One-Hot vector.  For example, lets say our vocabular from our set of texts is:\n",
        "\n",
        "    today, here, I, a, fine, sun, moon, bird, saw\n",
        "\n",
        "The sentence we want to build a BOW for is:\n",
        "\n",
        "    I saw a bird today.  \n",
        "    \n",
        "Using a 1/0 for each word in the vocabulary, our BOW encoded as a one-hot vector would be:\n",
        "\n",
        "    1 0 1 1 0 0 1 1\n"
      ]
    },
    {
      "cell_type": "markdown",
      "metadata": {
        "id": "yFzb53C1JdZg",
        "colab_type": "text"
      },
      "source": [
        "** 4.2 N-Grams **\n",
        "\n",
        "N-grams represent the sequence of N words that are found in a text.  They are commonly used as a model of the text language since they represent the frequence of words/phrases appearing in the text.  \n",
        "\n",
        "Common types of N-grams:\n",
        "\n",
        "unigrams   - these are the set of single words appearing in the text  \n",
        "bigrams    - these are the set of word pairs, like \"good day\" or \"big deal\", from the text  \n",
        "trigrams   - these are the set of word triples, like \"really good food\", from the text\n",
        "\n",
        "To build bigrams for a text, you need to extract all possible word pairs from the text and count how many times each pair occurs.  Then, you can use the top N words (1000), or the top percent (50%) as your language model."
      ]
    },
    {
      "cell_type": "markdown",
      "metadata": {
        "id": "bfUGpTwsJdZg",
        "colab_type": "text"
      },
      "source": [
        "** 4.3 Morphological Parsing **\n",
        "\n",
        "**Goal**: convert input word into its morphological parts.  For example:  “geese” would return goose + N + PL  \n",
        "\n",
        "\n",
        "Morphological Parsing:\n",
        "geese  ->  goose + N + PL  \n",
        "caught ->  catch + V + PastPart  \n",
        "\n",
        "Morphological parsing is related to stemming, but instead of mapping the word variants to a stem word, it labels  \n",
        "the stem word and its affixes.\n",
        "\n",
        "Morphological parsing, even for English, is quite involved  \n"
      ]
    },
    {
      "cell_type": "markdown",
      "metadata": {
        "id": "AUpSv_mYJdZh",
        "colab_type": "text"
      },
      "source": [
        "** 4.4 TD/IDF **\n",
        "\n",
        "TD/IDF stands for Term Document Inverse Document Frequency.  \"Term\" here can be thought of as a word.  This is a measure of the  relative importance of a word within a document, in the context of multiple documents.  \n",
        "\n",
        "We start with the TD part - this is simply a normalized frequency of the word in the document:  \n",
        "\n",
        "   - (word count in document) / (total words in document)  \n",
        "   \n",
        "The IDF is a weighting of the uniquess of the word across all of the documents.  Here is the complete formula of TD/IDF:  \n",
        "\n",
        "   - td_idf(t,d) = wc(t,d)/wc(d) / dc(t)/dc()  \n",
        "\n",
        "where:  \n",
        "   - wc(t,d) = # of occurrences of term t in doc d  \n",
        "   - wc(d) = # of words in doc d  \n",
        "   - dc(t) = # of docs that contain at least 1 occurrence of term t  \n",
        "   - dc() = # of docs in collection  "
      ]
    },
    {
      "cell_type": "markdown",
      "metadata": {
        "id": "JMGOBdFtJdZi",
        "colab_type": "text"
      },
      "source": [
        "** 4.5 Word Sense Disambiguation (WSD) **\n",
        "\n",
        "Related to POS tagging, WSD is use to distingish between difference senses of a word. Each sense of the word\n",
        "uses the same POS tag, but means something different.  For example:\n",
        "\n",
        "   - she served the King\n",
        "   - she served the ball  \n",
        "    \n",
        "   - he took his money to the bank\n",
        "   - he took his canoe to the bank  \n",
        "     \n",
        "   - I play bass guitar\n",
        "   - I fish for bass  \n"
      ]
    },
    {
      "cell_type": "markdown",
      "metadata": {
        "id": "pJHqFIkLJdZj",
        "colab_type": "text"
      },
      "source": [
        "** 4.6 Anaphora Resolution **  \\\n",
        "\n",
        "Examples:\n",
        "   - Sam and Bill left with the toys.  They were later found.\n",
        "\n",
        "Who does \"they\" refer to in the above sentence?  Sam and Bill, or the toys?\n"
      ]
    },
    {
      "cell_type": "markdown",
      "metadata": {
        "id": "VaFPzF_-JdZk",
        "colab_type": "text"
      },
      "source": [
        "** 4.7 Part-of-speech (POS) Tagging **\n",
        "\n",
        "   - Verb, noun, adjective, etc.\n",
        "   - Simple tag set: 19 word classes\n",
        "   \n",
        "“They refuse to permit us to obtain a refuse permit”\n",
        "\n",
        "What tagset to use?\n",
        "  - Brown Corpus (87 tags)\n",
        "  - C5 tagset (61 tags)\n",
        "  - Penn Treebank (45 tags)\n",
        "  \n",
        "Types of Taggers\n",
        "  - Rule-based (e.g., regular expression)\n",
        "  - Lookup (Unigram)\n",
        "  - N-Gram\n",
        "  - Hybrid and Backoff\n",
        "  - Brill Tagger (learns rules)\n",
        "  - HMM Tagger\n",
        " "
      ]
    },
    {
      "cell_type": "markdown",
      "metadata": {
        "id": "r1nZP7TxJdZl",
        "colab_type": "text"
      },
      "source": [
        "** HMM Tagger **\n",
        "\n",
        "Previosly, we introduce Hidden Markov Models with a weather example.  Here, we will show an example of how we can use a HMM to create a POS tagger.\n"
      ]
    },
    {
      "cell_type": "code",
      "metadata": {
        "id": "s1mvHKUlJdZl",
        "colab_type": "code",
        "colab": {
          "base_uri": "https://localhost:8080/",
          "height": 153
        },
        "outputId": "f13e6c9e-9180-499f-a852-615a4a0c346e"
      },
      "source": [
        "# before building the HMM Tagger, let's warm up with implementing our HMM weather example here\n",
        "\n",
        "# states\n",
        "start = -1; cold = 0; normal = 1; hot = 2; stateCount = 3\n",
        "stateNames = [\"cold\", \"normal\", \"hot\"]\n",
        "\n",
        "# outputs\n",
        "hotChoc = 0; soda=1; iceCream = 2\n",
        "\n",
        "timeSteps = 7\n",
        "\n",
        "# state transition probabilities\n",
        "trans = {}\n",
        "trans[(start, cold)] = .1\n",
        "trans[(start, normal)] = .8\n",
        "trans[(start, hot)] = .1\n",
        "\n",
        "trans[(cold, cold)] = .7\n",
        "trans[(cold, normal)] = .1\n",
        "trans[(cold, hot)] = .2\n",
        "\n",
        "trans[(normal, cold)] = .3\n",
        "trans[(normal, normal)] = .4\n",
        "trans[(normal, hot)] = .3\n",
        "\n",
        "trans[(hot, cold)] = .2\n",
        "trans[(hot, normal)] = .4\n",
        "trans[(hot, hot)] = .4\n",
        "\n",
        "# state outputs\n",
        "output = {}\n",
        "output[(cold, hotChoc)] = .7\n",
        "output[(cold, soda)] = .3\n",
        "output[(cold, iceCream)] = 0\n",
        "\n",
        "output[(normal, hotChoc)] = .1\n",
        "output[(normal, soda)] = .7\n",
        "output[(normal, iceCream)] = .2\n",
        "\n",
        "output[(hot, hotChoc)] = 0\n",
        "output[(hot, soda)] = .6\n",
        "output[(hot, iceCream)] = .4\n",
        "\n",
        "diary = [soda, soda, hotChoc, iceCream, soda, soda, iceCream]\n",
        "\n",
        "# manage cell values and back pointers\n",
        "cells = {}\n",
        "backStates = {}\n",
        "\n",
        "def computeMaxPrev(t, sNext):\n",
        "    maxValue = 0\n",
        "    maxState = 0\n",
        "    \n",
        "    for s in range(stateCount):\n",
        "        value = cells[t, s] * trans[(s, sNext)]\n",
        "        if (s == 0 or value > maxValue):\n",
        "            maxValue = value\n",
        "            maxState = s\n",
        "            \n",
        "    return (maxValue, maxState)\n",
        "    \n",
        "def viterbi(trans, output, diary):\n",
        "\n",
        "    # special handling for t=0 which have no prior states)\n",
        "    for s in range(stateCount):\n",
        "        cells[(0, s)] = trans[(start, s)] * output[(s, diary[0])]\n",
        "        \n",
        "    # handle rest of time steps\n",
        "    for t in range(1, timeSteps):\n",
        "        for s in range(stateCount):\n",
        "            maxValue, maxState = computeMaxPrev(t-1, s)\n",
        "            backStates[(t,s)] = maxState\n",
        "            cells[(t, s)] = maxValue * output[(s, diary[t])]\n",
        "            #print(\"t=\", t, \"s=\", s, \"maxValue=\", maxValue, \"maxState=\", maxState, \"output=\", output[(s, diary[t])], \"equals=\", cells[(t, s)])\n",
        "        \n",
        "    # walk thru cells backwards to get most probable path\n",
        "    path = []\n",
        "    \n",
        "    for tt in range(timeSteps):\n",
        "        t = timeSteps - tt - 1    # step t backwards over timesteps\n",
        "        maxValue = 0\n",
        "        maxState = 0\n",
        "        \n",
        "        for s in range(stateCount):\n",
        "            value = cells[t, s] \n",
        "            if (s == 0 or value > maxValue):\n",
        "                maxValue = value\n",
        "                maxState = s\n",
        "                \n",
        "        path.insert(0, maxState)\n",
        "        \n",
        "    return path\n",
        "\n",
        "# test our algorithm on the weather problem\n",
        "path = viterbi(trans, output, diary)\n",
        "\n",
        "print(\"Weather by days:\")\n",
        "for i in range(timeSteps):\n",
        "    state = path[i]\n",
        "    print(\"  day=\", i+1, stateNames[state])"
      ],
      "execution_count": 51,
      "outputs": [
        {
          "output_type": "stream",
          "text": [
            "Weather by days:\n",
            "  day= 1 normal\n",
            "  day= 2 normal\n",
            "  day= 3 cold\n",
            "  day= 4 hot\n",
            "  day= 5 normal\n",
            "  day= 6 normal\n",
            "  day= 7 hot\n"
          ],
          "name": "stdout"
        }
      ]
    },
    {
      "cell_type": "markdown",
      "metadata": {
        "id": "eLrNLbXMJdZp",
        "colab_type": "text"
      },
      "source": [
        "** HMM Tagger Overview**\n",
        "\n",
        "We are going to use a Hidden Markov Model to help us assign Part-of-Speech tags (like noun, verb, adjective, etc.) to words in a sentence.  We treat the human author of the sentence as moving between different meaning states (POS tags) as they compose the sentence.  Those state are hidden from us, but we observe the words of the sentence (the output of the meaning states).\n",
        "\n",
        "In our example here, we will use 4 POS tags from the 87 tag Brown corpus:\n",
        "\n",
        "   - VB   (verb, base form)\n",
        "   - TO   (infinitive marker)\n",
        "   - NN   (common singular noun)\n",
        "   - PPSS (other nominative pronoun)\n",
        "\n",
        "We are given the state-to-state transition probabilities and the state-output probabilities (see next code cell).  We are also given the sentence to decode: \"I WANT TO RACE\"."
      ]
    },
    {
      "cell_type": "code",
      "metadata": {
        "id": "1iynFInYJdZq",
        "colab_type": "code",
        "colab": {
          "base_uri": "https://localhost:8080/",
          "height": 102
        },
        "outputId": "55cf1482-4f31-485b-dbfa-e3a8f07f8e74"
      },
      "source": [
        "# OK, here is our HMM POS Tagger for this example\n",
        "\n",
        "# states\n",
        "start = -1; VB = 0; TO = 1; NN = 2; PPSS = 3; stateCount = 4\n",
        "stateNames = [\"VB\", \"TO\", \"NN\", \"PPSS\"]\n",
        "\n",
        "# outputs\n",
        "I = 0; WANT = 1; To = 2; RACE=3\n",
        "\n",
        "timeSteps = 4\n",
        "\n",
        "# state transition probabilities\n",
        "trans = {}\n",
        "trans[(start, VB)] = .19\n",
        "trans[(start, TO)] = .0043\n",
        "trans[(start, NN)] = .041\n",
        "trans[(start, PPSS)] = .067\n",
        "\n",
        "trans[(VB, VB)] = .0038\n",
        "trans[(VB, TO)] = .035\n",
        "trans[(VB, NN)] = .047\n",
        "trans[(VB, PPSS)] = .0070\n",
        "\n",
        "trans[(TO, VB)] = .83\n",
        "trans[(TO, TO)] = 0\n",
        "trans[(TO, NN)] = .00047\n",
        "trans[(TO, PPSS)] = 0\n",
        "\n",
        "trans[(NN, VB)] = .0040\n",
        "trans[(NN, TO)] = .016\n",
        "trans[(NN, NN)] = .087\n",
        "trans[(NN, PPSS)] = .0045\n",
        "\n",
        "trans[(PPSS, VB)] = .23\n",
        "trans[(PPSS, TO)] = .00079\n",
        "trans[(PPSS, NN)] = .0012\n",
        "trans[(PPSS, PPSS)] = .00014\n",
        "\n",
        "# state outputs\n",
        "output = {}\n",
        "output[(VB, I)] = 0\n",
        "output[(VB, WANT)] = .0093\n",
        "output[(VB, To)] = 0\n",
        "output[(VB, RACE)] = .00012\n",
        "\n",
        "output[(TO, I)] = 0\n",
        "output[(TO, WANT)] = 0\n",
        "output[(TO, To)] = .99\n",
        "output[(TO, RACE)] = 0\n",
        "\n",
        "output[(NN, I)] = 0\n",
        "output[(NN, WANT)] = .000054\n",
        "output[(NN, To)] = 0\n",
        "output[(NN, RACE)] = .00057\n",
        "\n",
        "output[(PPSS, I)] = .37\n",
        "output[(PPSS, WANT)] = 0\n",
        "output[(PPSS, To)] = 0\n",
        "output[(PPSS, RACE)] = 0\n",
        "\n",
        "\n",
        "sentence = [I, WANT, To, RACE]\n",
        "words = [\"I\", \"WANT\", \"TO\", \"RACE\"]\n",
        "\n",
        "# manage cell values and back pointers\n",
        "cells = {}\n",
        "backStates = {}\n",
        "\n",
        "def computeMaxPrev(t, sNext):\n",
        "    maxValue = 0\n",
        "    maxState = 0\n",
        "    \n",
        "    for s in range(stateCount):\n",
        "        value = cells[t, s] * trans[(s, sNext)]\n",
        "        if (s == 0 or value > maxValue):\n",
        "            maxValue = value\n",
        "            maxState = s\n",
        "            \n",
        "    return (maxValue, maxState)\n",
        "    \n",
        "def viterbi(trans, output, sentence):\n",
        "\n",
        "    # special handling for t=0 which have no prior states)\n",
        "    for s in range(stateCount):\n",
        "        cells[(0, s)] = trans[(start, s)] * output[(s, sentence[0])]\n",
        "        \n",
        "    # handle rest of time steps\n",
        "    for t in range(1, timeSteps):\n",
        "        for s in range(stateCount):\n",
        "            maxValue, maxState = computeMaxPrev(t-1, s)\n",
        "            backStates[(t,s)] = maxState\n",
        "            cells[(t, s)] = maxValue * output[(s, sentence[t])]\n",
        "            #print(\"t=\", t, \"s=\", s, \"maxValue=\", maxValue, \"maxState=\", maxState, \"output=\", output[(s, sentence[t])], \"equals=\", cells[(t, s)])\n",
        "        \n",
        "    # walk thru cells backwards to get most probable path\n",
        "    path = []\n",
        "    \n",
        "    for tt in range(timeSteps):\n",
        "        t = timeSteps - tt - 1    # step t backwards over timesteps\n",
        "        maxValue = 0\n",
        "        maxState = 0\n",
        "        \n",
        "        for s in range(stateCount):\n",
        "            value = cells[t, s] \n",
        "            if (s == 0 or value > maxValue):\n",
        "                maxValue = value\n",
        "                maxState = s\n",
        "                \n",
        "        path.insert(0, maxState)\n",
        "        \n",
        "    return path\n",
        "\n",
        "# test our algorithm on the POS TAG data\n",
        "path = viterbi(trans, output, sentence)\n",
        "\n",
        "print(\"Tagged Sentence:\")\n",
        "for i in range(timeSteps):\n",
        "    state = path[i]\n",
        "    print(\"  word=\", words[i], \"\\ttag=\", stateNames[state])\n",
        "    "
      ],
      "execution_count": 52,
      "outputs": [
        {
          "output_type": "stream",
          "text": [
            "Tagged Sentence:\n",
            "  word= I \ttag= PPSS\n",
            "  word= WANT \ttag= VB\n",
            "  word= TO \ttag= TO\n",
            "  word= RACE \ttag= VB\n"
          ],
          "name": "stdout"
        }
      ]
    },
    {
      "cell_type": "code",
      "metadata": {
        "id": "kZ0nGqpYJdZv",
        "colab_type": "code",
        "colab": {
          "base_uri": "https://localhost:8080/",
          "height": 187
        },
        "outputId": "c8824fb7-9ad8-4cc6-9f46-22706047b3c7"
      },
      "source": [
        "# Here is an example of using the NLTK POS tagger\n",
        "import nltk\n",
        "# nltk.download('averaged_perceptron_tagger')\n",
        "nltk.pos_tag(\"they refuse to permit us to obtain the refuse permit\".split())"
      ],
      "execution_count": 55,
      "outputs": [
        {
          "output_type": "execute_result",
          "data": {
            "text/plain": [
              "[('they', 'PRP'),\n",
              " ('refuse', 'VBP'),\n",
              " ('to', 'TO'),\n",
              " ('permit', 'VB'),\n",
              " ('us', 'PRP'),\n",
              " ('to', 'TO'),\n",
              " ('obtain', 'VB'),\n",
              " ('the', 'DT'),\n",
              " ('refuse', 'NN'),\n",
              " ('permit', 'NN')]"
            ]
          },
          "metadata": {
            "tags": []
          },
          "execution_count": 55
        }
      ]
    },
    {
      "cell_type": "code",
      "metadata": {
        "id": "d9SS_grUJdZy",
        "colab_type": "code",
        "colab": {
          "base_uri": "https://localhost:8080/",
          "height": 326
        },
        "outputId": "a4bc9524-2566-4b27-a9c0-a5c73736202b"
      },
      "source": [
        "# POS tagging with supervised learning, using word suffix parts as features\n",
        "import nltk\n",
        "# nltk.download('brown')\n",
        "\n",
        "# start by finding the most common 1, 2, and 3 character suffixes of words (using Brown corpus of 1.1 million words)\n",
        "from nltk.corpus import brown\n",
        "fd = nltk.FreqDist()        # create an empty one that we will count with\n",
        "\n",
        "for word in brown.words():\n",
        "    wl = word.lower()\n",
        "    fd[wl[-1:]] += 1\n",
        "    fd[wl[-2:]] += 1\n",
        "    fd[wl[-3:]] += 1\n",
        "\n",
        "topSuffixes = [ key for (key,value) in fd.most_common(30)]\n",
        "print(topSuffixes[:40])\n",
        "\n",
        "def pos_features(word):\n",
        "    features = {}\n",
        "    \n",
        "    for suffix in topSuffixes:\n",
        "        features[suffix] = word.lower().endswith(suffix)\n",
        "        \n",
        "    return features\n",
        "\n",
        "#pos_features(\"table\")\n",
        "\n",
        "tagWords = brown.tagged_words(categories=\"news\")\n",
        "data = [(pos_features(word), tag) for (word,tag) in tagWords]\n",
        "\n",
        "print(\"len(data)=\", len(data))\n",
        "\n",
        "dataCount = len(data)\n",
        "trainCount = int(.8*dataCount)\n",
        "\n",
        "trainData = data[:trainCount]\n",
        "testData = data[trainCount:]\n",
        "\n",
        "dtree = nltk.DecisionTreeClassifier.train(trainData)\n",
        "# dtree = nltk.NaiveBayesClassifier.train(trainData) # don't forget to comment the 48th line as Naive_Bayes has no objct \"pseudocode\"\n",
        "\n",
        "print(\"train accuracy=\", nltk.classify.accuracy(dtree, trainData))\n",
        "print(\"test accuracy=\", nltk.classify.accuracy(dtree, testData))\n",
        "\n",
        "print(dtree.classify(pos_features(\"cats\")))\n",
        "print(dtree.classify(pos_features(\"house\")))\n",
        "\n",
        "print(dtree.pseudocode(depth=4))\n"
      ],
      "execution_count": 59,
      "outputs": [
        {
          "output_type": "stream",
          "text": [
            "['e', ',', '.', 's', 'd', 't', 'he', 'n', 'a', 'of', 'the', 'y', 'r', 'to', 'in', 'f', 'o', 'ed', 'nd', 'is', 'on', 'l', 'g', 'and', 'ng', 'er', 'as', 'ing', 'h', 'at']\n",
            "len(data)= 100554\n",
            "train accuracy= 0.48975050656986935\n",
            "test accuracy= 0.48466013624384663\n",
            "NNS\n",
            "NN\n",
            "if the == False: \n",
            "  if , == False: \n",
            "    if s == False: \n",
            "      if . == False: return '``'\n",
            "      if . == True: return '.'\n",
            "    if s == True: \n",
            "      if is == False: return 'NNS'\n",
            "      if is == True: return 'BEZ'\n",
            "  if , == True: return ','\n",
            "if the == True: return 'AT'\n",
            "\n"
          ],
          "name": "stdout"
        }
      ]
    },
    {
      "cell_type": "markdown",
      "metadata": {
        "id": "FD6AjoLmJdZ2",
        "colab_type": "text"
      },
      "source": [
        "## 5. Classical NLP Applications ##"
      ]
    },
    {
      "cell_type": "markdown",
      "metadata": {
        "id": "0Da6uojPJdZ3",
        "colab_type": "text"
      },
      "source": [
        "** 5.1 Name Gender Classifier **\n"
      ]
    },
    {
      "cell_type": "code",
      "metadata": {
        "id": "SKbu8v1YJdZ3",
        "colab_type": "code",
        "colab": {
          "base_uri": "https://localhost:8080/",
          "height": 493
        },
        "outputId": "31d0e8f0-e035-4ac3-e71a-d788287abb80"
      },
      "source": [
        "# code to build a classifier to classify names as male or female\n",
        "# demonstrates the basics of feature extraction and model building\n",
        "# nltk.download('names')\n",
        "names = [(name, 'male') for name in nltk.corpus.names.words(\"male.txt\")]\n",
        "names += [(name, 'female') for name in nltk.corpus.names.words(\"female.txt\")]\n",
        "\n",
        "def extract_gender_features(name):\n",
        "    name = name.lower()\n",
        "    features = {}\n",
        "    features[\"suffix\"] = name[-1:]\n",
        "    features[\"suffix2\"] = name[-2:] if len(name) > 1 else name[0]\n",
        "    features[\"suffix3\"] = name[-3:] if len(name) > 2 else name[0]\n",
        "    #features[\"suffix4\"] = name[-4:] if len(name) > 3 else name[0]\n",
        "    #features[\"suffix5\"] = name[-5:] if len(name) > 4 else name[0]\n",
        "    #features[\"suffix6\"] = name[-6:] if len(name) > 5 else name[0]\n",
        "    features[\"prefix\"] = name[:1]\n",
        "    features[\"prefix2\"] = name[:2] if len(name) > 1 else name[0]\n",
        "    features[\"prefix3\"] = name[:3] if len(name) > 2 else name[0]\n",
        "    features[\"prefix4\"] = name[:4] if len(name) > 3 else name[0]\n",
        "    features[\"prefix5\"] = name[:5] if len(name) > 4 else name[0]\n",
        "    #features[\"wordLen\"] = len(name)\n",
        "    \n",
        "    #for letter in \"abcdefghijklmnopqrstuvwyxz\":\n",
        "    #    features[letter + \"-count\"] = name.count(letter)\n",
        "   \n",
        "    return features\n",
        "\n",
        "data = [(extract_gender_features(name), gender) for (name,gender) in names]\n",
        "\n",
        "import random\n",
        "random.shuffle(data)\n",
        "\n",
        "#print(data[:10])\n",
        "#print()\n",
        "#print(data[-10:])\n",
        "\n",
        "dataCount = len(data)\n",
        "trainCount = int(.8*dataCount)\n",
        "\n",
        "trainData = data[:trainCount]\n",
        "testData = data[trainCount:]\n",
        "bayes = nltk.NaiveBayesClassifier.train(trainData)\n",
        "\n",
        "def classify(name):\n",
        "    label = bayes.classify(extract_gender_features(name))\n",
        "    print(\"name=\", name, \"classifed as=\", label)\n",
        "\n",
        "print(\"trainData accuracy=\", nltk.classify.accuracy(bayes, trainData))\n",
        "print(\"testData accuracy=\", nltk.classify.accuracy(bayes, testData))\n",
        "\n",
        "bayes.show_most_informative_features(25)"
      ],
      "execution_count": 62,
      "outputs": [
        {
          "output_type": "stream",
          "text": [
            "trainData accuracy= 0.9260424862313139\n",
            "testData accuracy= 0.8344870988042794\n",
            "Most Informative Features\n",
            "                 suffix2 = 'na'           female : male   =     85.0 : 1.0\n",
            "                 suffix2 = 'la'           female : male   =     63.9 : 1.0\n",
            "                 suffix2 = 'ia'           female : male   =     36.2 : 1.0\n",
            "                  suffix = 'a'            female : male   =     34.5 : 1.0\n",
            "                 suffix2 = 'ld'             male : female =     33.8 : 1.0\n",
            "                 suffix2 = 'us'             male : female =     33.6 : 1.0\n",
            "                  suffix = 'k'              male : female =     29.3 : 1.0\n",
            "                 suffix2 = 'ta'           female : male   =     26.0 : 1.0\n",
            "                 suffix2 = 'io'             male : female =     24.9 : 1.0\n",
            "                 suffix2 = 'ra'           female : male   =     22.9 : 1.0\n",
            "                 suffix3 = 'ita'          female : male   =     21.7 : 1.0\n",
            "                 suffix2 = 'rt'             male : female =     21.1 : 1.0\n",
            "                 suffix2 = 'rd'             male : female =     20.9 : 1.0\n",
            "                 suffix3 = 'tta'          female : male   =     20.4 : 1.0\n",
            "                 suffix3 = 'ana'          female : male   =     20.0 : 1.0\n",
            "                 suffix2 = 'do'             male : female =     19.4 : 1.0\n",
            "                 prefix2 = 'wa'             male : female =     19.3 : 1.0\n",
            "                 prefix3 = 'gar'            male : female =     19.2 : 1.0\n",
            "                 suffix2 = 'os'             male : female =     18.3 : 1.0\n",
            "                 suffix3 = 'ard'            male : female =     17.9 : 1.0\n",
            "                 suffix3 = 'son'            male : female =     16.4 : 1.0\n",
            "                 suffix3 = 'vin'            male : female =     16.0 : 1.0\n",
            "                 suffix3 = 'nne'          female : male   =     15.9 : 1.0\n",
            "                 prefix3 = 'ros'          female : male   =     15.7 : 1.0\n",
            "                 prefix3 = 'dor'          female : male   =     15.2 : 1.0\n"
          ],
          "name": "stdout"
        }
      ]
    },
    {
      "cell_type": "code",
      "metadata": {
        "id": "SvLwJebxJdZ7",
        "colab_type": "code",
        "colab": {
          "base_uri": "https://localhost:8080/",
          "height": 1000
        },
        "outputId": "a3454bfd-eb6d-41b7-fe1e-4107fca2aa7b"
      },
      "source": [
        "# print gender classifier errors so we can design new features to identify the cases\n",
        "errors = []\n",
        "\n",
        "for (name,label) in names:\n",
        "    if bayes.classify(extract_gender_features(name)) != label:\n",
        "        errors.append({\"name\": name, \"label\": label})\n",
        "\n",
        "errors\n"
      ],
      "execution_count": 64,
      "outputs": [
        {
          "output_type": "execute_result",
          "data": {
            "text/plain": [
              "[{'label': 'male', 'name': 'Abbie'},\n",
              " {'label': 'male', 'name': 'Aditya'},\n",
              " {'label': 'male', 'name': 'Adrian'},\n",
              " {'label': 'male', 'name': 'Adrien'},\n",
              " {'label': 'male', 'name': 'Ali'},\n",
              " {'label': 'male', 'name': 'Allah'},\n",
              " {'label': 'male', 'name': 'Allie'},\n",
              " {'label': 'male', 'name': 'Allin'},\n",
              " {'label': 'male', 'name': 'Allyn'},\n",
              " {'label': 'male', 'name': 'Ambrosi'},\n",
              " {'label': 'male', 'name': 'Andie'},\n",
              " {'label': 'male', 'name': 'Andre'},\n",
              " {'label': 'male', 'name': 'Andrea'},\n",
              " {'label': 'male', 'name': 'Andri'},\n",
              " {'label': 'male', 'name': 'Andy'},\n",
              " {'label': 'male', 'name': 'Angel'},\n",
              " {'label': 'male', 'name': 'Angie'},\n",
              " {'label': 'male', 'name': 'Anthony'},\n",
              " {'label': 'male', 'name': 'Antoine'},\n",
              " {'label': 'male', 'name': 'Antone'},\n",
              " {'label': 'male', 'name': 'Antoni'},\n",
              " {'label': 'male', 'name': 'Antony'},\n",
              " {'label': 'male', 'name': 'Ari'},\n",
              " {'label': 'male', 'name': 'Arie'},\n",
              " {'label': 'male', 'name': 'Ariel'},\n",
              " {'label': 'male', 'name': 'Ashley'},\n",
              " {'label': 'male', 'name': 'Aubrey'},\n",
              " {'label': 'male', 'name': 'Augustine'},\n",
              " {'label': 'male', 'name': 'Bealle'},\n",
              " {'label': 'male', 'name': 'Bela'},\n",
              " {'label': 'male', 'name': 'Bennie'},\n",
              " {'label': 'male', 'name': 'Bernie'},\n",
              " {'label': 'male', 'name': 'Bertie'},\n",
              " {'label': 'male', 'name': 'Billie'},\n",
              " {'label': 'male', 'name': 'Blaine'},\n",
              " {'label': 'male', 'name': 'Blayne'},\n",
              " {'label': 'male', 'name': 'Bobbie'},\n",
              " {'label': 'male', 'name': 'Brandy'},\n",
              " {'label': 'male', 'name': 'Bryn'},\n",
              " {'label': 'male', 'name': 'Cain'},\n",
              " {'label': 'male', 'name': 'Cal'},\n",
              " {'label': 'male', 'name': 'Caldwell'},\n",
              " {'label': 'male', 'name': 'Cammy'},\n",
              " {'label': 'male', 'name': 'Carey'},\n",
              " {'label': 'male', 'name': 'Carl'},\n",
              " {'label': 'male', 'name': 'Carleigh'},\n",
              " {'label': 'male', 'name': 'Carlie'},\n",
              " {'label': 'male', 'name': 'Carlin'},\n",
              " {'label': 'male', 'name': 'Carlyle'},\n",
              " {'label': 'male', 'name': 'Carmine'},\n",
              " {'label': 'male', 'name': 'Carroll'},\n",
              " {'label': 'male', 'name': 'Cary'},\n",
              " {'label': 'male', 'name': 'Caryl'},\n",
              " {'label': 'male', 'name': 'Case'},\n",
              " {'label': 'male', 'name': 'Casey'},\n",
              " {'label': 'male', 'name': 'Cass'},\n",
              " {'label': 'male', 'name': 'Cat'},\n",
              " {'label': 'male', 'name': 'Cecil'},\n",
              " {'label': 'male', 'name': 'Chane'},\n",
              " {'label': 'male', 'name': 'Chariot'},\n",
              " {'label': 'male', 'name': 'Charley'},\n",
              " {'label': 'male', 'name': 'Charlie'},\n",
              " {'label': 'male', 'name': 'Che'},\n",
              " {'label': 'male', 'name': 'Chrissy'},\n",
              " {'label': 'male', 'name': 'Christie'},\n",
              " {'label': 'male', 'name': 'Christophe'},\n",
              " {'label': 'male', 'name': 'Christy'},\n",
              " {'label': 'male', 'name': 'Chrisy'},\n",
              " {'label': 'male', 'name': 'Claire'},\n",
              " {'label': 'male', 'name': 'Clarance'},\n",
              " {'label': 'male', 'name': 'Clare'},\n",
              " {'label': 'male', 'name': 'Clarence'},\n",
              " {'label': 'male', 'name': 'Claude'},\n",
              " {'label': 'male', 'name': 'Clyde'},\n",
              " {'label': 'male', 'name': 'Cody'},\n",
              " {'label': 'male', 'name': 'Cole'},\n",
              " {'label': 'male', 'name': 'Collin'},\n",
              " {'label': 'male', 'name': 'Connie'},\n",
              " {'label': 'male', 'name': 'Connolly'},\n",
              " {'label': 'male', 'name': 'Constantin'},\n",
              " {'label': 'male', 'name': 'Constantine'},\n",
              " {'label': 'male', 'name': 'Corey'},\n",
              " {'label': 'male', 'name': 'Cornellis'},\n",
              " {'label': 'male', 'name': 'Corrie'},\n",
              " {'label': 'male', 'name': 'Cortese'},\n",
              " {'label': 'male', 'name': 'Cory'},\n",
              " {'label': 'male', 'name': 'Costa'},\n",
              " {'label': 'male', 'name': 'Cris'},\n",
              " {'label': 'male', 'name': 'Cristopher'},\n",
              " {'label': 'male', 'name': 'Dana'},\n",
              " {'label': 'male', 'name': 'Dane'},\n",
              " {'label': 'male', 'name': 'Dani'},\n",
              " {'label': 'male', 'name': 'Danie'},\n",
              " {'label': 'male', 'name': 'Daniel'},\n",
              " {'label': 'male', 'name': 'Dannie'},\n",
              " {'label': 'male', 'name': 'Danny'},\n",
              " {'label': 'male', 'name': 'Daryle'},\n",
              " {'label': 'male', 'name': 'Dean'},\n",
              " {'label': 'male', 'name': 'Deane'},\n",
              " {'label': 'male', 'name': 'Del'},\n",
              " {'label': 'male', 'name': 'Dell'},\n",
              " {'label': 'male', 'name': 'Donn'},\n",
              " {'label': 'male', 'name': 'Donnie'},\n",
              " {'label': 'male', 'name': 'Donny'},\n",
              " {'label': 'male', 'name': 'Dorian'},\n",
              " {'label': 'male', 'name': 'Dory'},\n",
              " {'label': 'male', 'name': 'Edie'},\n",
              " {'label': 'male', 'name': 'Eli'},\n",
              " {'label': 'male', 'name': 'Elijah'},\n",
              " {'label': 'male', 'name': 'Elisha'},\n",
              " {'label': 'male', 'name': 'Ely'},\n",
              " {'label': 'male', 'name': 'Emile'},\n",
              " {'label': 'male', 'name': 'Emmy'},\n",
              " {'label': 'male', 'name': 'Enrique'},\n",
              " {'label': 'male', 'name': 'Erny'},\n",
              " {'label': 'male', 'name': 'Esme'},\n",
              " {'label': 'male', 'name': 'Etienne'},\n",
              " {'label': 'male', 'name': 'Eugene'},\n",
              " {'label': 'male', 'name': 'Evan'},\n",
              " {'label': 'male', 'name': 'Evelyn'},\n",
              " {'label': 'male', 'name': 'Ezra'},\n",
              " {'label': 'male', 'name': 'Farley'},\n",
              " {'label': 'male', 'name': 'Felice'},\n",
              " {'label': 'male', 'name': 'Felipe'},\n",
              " {'label': 'male', 'name': 'Ferdie'},\n",
              " {'label': 'male', 'name': 'Florian'},\n",
              " {'label': 'male', 'name': 'Franklyn'},\n",
              " {'label': 'male', 'name': 'Freddie'},\n",
              " {'label': 'male', 'name': 'Gabriele'},\n",
              " {'label': 'male', 'name': 'Garcia'},\n",
              " {'label': 'male', 'name': 'Gayle'},\n",
              " {'label': 'male', 'name': 'Gene'},\n",
              " {'label': 'male', 'name': 'Georgia'},\n",
              " {'label': 'male', 'name': 'Georgie'},\n",
              " {'label': 'male', 'name': 'Geri'},\n",
              " {'label': 'male', 'name': 'Germaine'},\n",
              " {'label': 'male', 'name': 'Gerri'},\n",
              " {'label': 'male', 'name': 'Giavani'},\n",
              " {'label': 'male', 'name': 'Giovanne'},\n",
              " {'label': 'male', 'name': 'Giovanni'},\n",
              " {'label': 'male', 'name': 'Glen'},\n",
              " {'label': 'male', 'name': 'Glenn'},\n",
              " {'label': 'male', 'name': 'Glynn'},\n",
              " {'label': 'male', 'name': 'Granville'},\n",
              " {'label': 'male', 'name': 'Hannibal'},\n",
              " {'label': 'male', 'name': 'Hazel'},\n",
              " {'label': 'male', 'name': 'Hollis'},\n",
              " {'label': 'male', 'name': 'Holly'},\n",
              " {'label': 'male', 'name': 'Ira'},\n",
              " {'label': 'male', 'name': 'Isa'},\n",
              " {'label': 'male', 'name': 'Isadore'},\n",
              " {'label': 'male', 'name': 'Isidore'},\n",
              " {'label': 'male', 'name': 'Ivor'},\n",
              " {'label': 'male', 'name': 'Izzy'},\n",
              " {'label': 'male', 'name': 'Jackie'},\n",
              " {'label': 'male', 'name': 'Jacques'},\n",
              " {'label': 'male', 'name': 'Jaime'},\n",
              " {'label': 'male', 'name': 'Jamie'},\n",
              " {'label': 'male', 'name': 'Jeramie'},\n",
              " {'label': 'male', 'name': 'Jermaine'},\n",
              " {'label': 'male', 'name': 'Jermayne'},\n",
              " {'label': 'male', 'name': 'Jerri'},\n",
              " {'label': 'male', 'name': 'Jerrie'},\n",
              " {'label': 'male', 'name': 'Jesse'},\n",
              " {'label': 'male', 'name': 'Jessee'},\n",
              " {'label': 'male', 'name': 'Jessey'},\n",
              " {'label': 'male', 'name': 'Jessie'},\n",
              " {'label': 'male', 'name': 'Jo'},\n",
              " {'label': 'male', 'name': 'Jodi'},\n",
              " {'label': 'male', 'name': 'Jodie'},\n",
              " {'label': 'male', 'name': 'Joel'},\n",
              " {'label': 'male', 'name': 'Jose'},\n",
              " {'label': 'male', 'name': 'Josiah'},\n",
              " {'label': 'male', 'name': 'Juanita'},\n",
              " {'label': 'male', 'name': 'Judith'},\n",
              " {'label': 'male', 'name': 'Judy'},\n",
              " {'label': 'male', 'name': 'Jule'},\n",
              " {'label': 'male', 'name': 'Julian'},\n",
              " {'label': 'male', 'name': 'Julie'},\n",
              " {'label': 'male', 'name': 'Kalil'},\n",
              " {'label': 'male', 'name': 'Kalle'},\n",
              " {'label': 'male', 'name': 'Kane'},\n",
              " {'label': 'male', 'name': 'Karel'},\n",
              " {'label': 'male', 'name': 'Karl'},\n",
              " {'label': 'male', 'name': 'Karsten'},\n",
              " {'label': 'male', 'name': 'Keene'},\n",
              " {'label': 'male', 'name': 'Kellen'},\n",
              " {'label': 'male', 'name': 'Kelley'},\n",
              " {'label': 'male', 'name': 'Kelly'},\n",
              " {'label': 'male', 'name': 'Kelsey'},\n",
              " {'label': 'male', 'name': 'Kerry'},\n",
              " {'label': 'male', 'name': 'Kirby'},\n",
              " {'label': 'male', 'name': 'Kit'},\n",
              " {'label': 'male', 'name': 'Klee'},\n",
              " {'label': 'male', 'name': 'Konstantin'},\n",
              " {'label': 'male', 'name': 'Kory'},\n",
              " {'label': 'male', 'name': 'Kris'},\n",
              " {'label': 'male', 'name': 'Krishna'},\n",
              " {'label': 'male', 'name': 'Kristian'},\n",
              " {'label': 'male', 'name': 'Kyle'},\n",
              " {'label': 'male', 'name': 'Lane'},\n",
              " {'label': 'male', 'name': 'Lanny'},\n",
              " {'label': 'male', 'name': 'Laurance'},\n",
              " {'label': 'male', 'name': 'Lauren'},\n",
              " {'label': 'male', 'name': 'Laurence'},\n",
              " {'label': 'male', 'name': 'Laurie'},\n",
              " {'label': 'male', 'name': 'Lee'},\n",
              " {'label': 'male', 'name': 'Len'},\n",
              " {'label': 'male', 'name': 'Lesley'},\n",
              " {'label': 'male', 'name': 'Leslie'},\n",
              " {'label': 'male', 'name': 'Lin'},\n",
              " {'label': 'male', 'name': 'Lindsay'},\n",
              " {'label': 'male', 'name': 'Lindsey'},\n",
              " {'label': 'male', 'name': 'Lindy'},\n",
              " {'label': 'male', 'name': 'Linoel'},\n",
              " {'label': 'male', 'name': 'Lonnie'},\n",
              " {'label': 'male', 'name': 'Lonny'},\n",
              " {'label': 'male', 'name': 'Loren'},\n",
              " {'label': 'male', 'name': 'Lorne'},\n",
              " {'label': 'male', 'name': 'Lorrie'},\n",
              " {'label': 'male', 'name': 'Louie'},\n",
              " {'label': 'male', 'name': 'Lucian'},\n",
              " {'label': 'male', 'name': 'Lucien'},\n",
              " {'label': 'male', 'name': 'Luigi'},\n",
              " {'label': 'male', 'name': 'Lyle'},\n",
              " {'label': 'male', 'name': 'Lyn'},\n",
              " {'label': 'male', 'name': 'Lynn'},\n",
              " {'label': 'male', 'name': 'Maddie'},\n",
              " {'label': 'male', 'name': 'Maddy'},\n",
              " {'label': 'male', 'name': 'Manny'},\n",
              " {'label': 'male', 'name': 'Marcel'},\n",
              " {'label': 'male', 'name': 'Marietta'},\n",
              " {'label': 'male', 'name': 'Marilu'},\n",
              " {'label': 'male', 'name': 'Marlin'},\n",
              " {'label': 'male', 'name': 'Martainn'},\n",
              " {'label': 'male', 'name': 'Marten'},\n",
              " {'label': 'male', 'name': 'Martie'},\n",
              " {'label': 'male', 'name': 'Martin'},\n",
              " {'label': 'male', 'name': 'Marty'},\n",
              " {'label': 'male', 'name': 'Martyn'},\n",
              " {'label': 'male', 'name': 'Mattie'},\n",
              " {'label': 'male', 'name': 'Maurice'},\n",
              " {'label': 'male', 'name': 'Maurie'},\n",
              " {'label': 'male', 'name': 'Maurise'},\n",
              " {'label': 'male', 'name': 'Maurits'},\n",
              " {'label': 'male', 'name': 'Maxie'},\n",
              " {'label': 'male', 'name': 'Meade'},\n",
              " {'label': 'male', 'name': 'Mel'},\n",
              " {'label': 'male', 'name': 'Melvyn'},\n",
              " {'label': 'male', 'name': 'Meredeth'},\n",
              " {'label': 'male', 'name': 'Meredith'},\n",
              " {'label': 'male', 'name': 'Merell'},\n",
              " {'label': 'male', 'name': 'Merill'},\n",
              " {'label': 'male', 'name': 'Merle'},\n",
              " {'label': 'male', 'name': 'Merlin'},\n",
              " {'label': 'male', 'name': 'Merril'},\n",
              " {'label': 'male', 'name': 'Merrill'},\n",
              " {'label': 'male', 'name': 'Merry'},\n",
              " {'label': 'male', 'name': 'Meryl'},\n",
              " {'label': 'male', 'name': 'Micah'},\n",
              " {'label': 'male', 'name': 'Michal'},\n",
              " {'label': 'male', 'name': 'Michel'},\n",
              " {'label': 'male', 'name': 'Michele'},\n",
              " {'label': 'male', 'name': 'Mika'},\n",
              " {'label': 'male', 'name': 'Mischa'},\n",
              " {'label': 'male', 'name': 'Morgan'},\n",
              " {'label': 'male', 'name': 'Morlee'},\n",
              " {'label': 'male', 'name': 'Moshe'},\n",
              " {'label': 'male', 'name': 'Natale'},\n",
              " {'label': 'male', 'name': 'Nate'},\n",
              " {'label': 'male', 'name': 'Neel'},\n",
              " {'label': 'male', 'name': 'Nickie'},\n",
              " {'label': 'male', 'name': 'Niki'},\n",
              " {'label': 'male', 'name': 'Nikita'},\n",
              " {'label': 'male', 'name': 'Nikki'},\n",
              " {'label': 'male', 'name': 'Noble'},\n",
              " {'label': 'male', 'name': 'Noel'},\n",
              " {'label': 'male', 'name': 'Odell'},\n",
              " {'label': 'male', 'name': 'Odie'},\n",
              " {'label': 'male', 'name': 'Ole'},\n",
              " {'label': 'male', 'name': 'Olle'},\n",
              " {'label': 'male', 'name': 'Ollie'},\n",
              " {'label': 'male', 'name': 'Oral'},\n",
              " {'label': 'male', 'name': 'Partha'},\n",
              " {'label': 'male', 'name': 'Patrice'},\n",
              " {'label': 'male', 'name': 'Patsy'},\n",
              " {'label': 'male', 'name': 'Pattie'},\n",
              " {'label': 'male', 'name': 'Patty'},\n",
              " {'label': 'male', 'name': 'Pennie'},\n",
              " {'label': 'male', 'name': 'Pete'},\n",
              " {'label': 'male', 'name': 'Rabi'},\n",
              " {'label': 'male', 'name': 'Randi'},\n",
              " {'label': 'male', 'name': 'Rene'},\n",
              " {'label': 'male', 'name': 'Reza'},\n",
              " {'label': 'male', 'name': 'Robbie'},\n",
              " {'label': 'male', 'name': 'Robin'},\n",
              " {'label': 'male', 'name': 'Roni'},\n",
              " {'label': 'male', 'name': 'Ronnie'},\n",
              " {'label': 'male', 'name': 'Ronny'},\n",
              " {'label': 'male', 'name': 'Roscoe'},\n",
              " {'label': 'male', 'name': 'Samuele'},\n",
              " {'label': 'male', 'name': 'Sandy'},\n",
              " {'label': 'male', 'name': 'Sascha'},\n",
              " {'label': 'male', 'name': 'Sasha'},\n",
              " {'label': 'male', 'name': 'Saundra'},\n",
              " {'label': 'male', 'name': 'Shaine'},\n",
              " {'label': 'male', 'name': 'Shane'},\n",
              " {'label': 'male', 'name': 'Shaun'},\n",
              " {'label': 'male', 'name': 'Shawn'},\n",
              " {'label': 'male', 'name': 'Shay'},\n",
              " {'label': 'male', 'name': 'Shayne'},\n",
              " {'label': 'male', 'name': 'Shea'},\n",
              " {'label': 'male', 'name': 'Shelley'},\n",
              " {'label': 'male', 'name': 'Sibyl'},\n",
              " {'label': 'male', 'name': 'Siddhartha'},\n",
              " {'label': 'male', 'name': 'Sonnie'},\n",
              " {'label': 'male', 'name': 'Sonny'},\n",
              " {'label': 'male', 'name': 'Sunny'},\n",
              " {'label': 'male', 'name': 'Tabbie'},\n",
              " {'label': 'male', 'name': 'Tallie'},\n",
              " {'label': 'male', 'name': 'Tally'},\n",
              " {'label': 'male', 'name': 'Tammie'},\n",
              " {'label': 'male', 'name': 'Tate'},\n",
              " {'label': 'male', 'name': 'Teddie'},\n",
              " {'label': 'male', 'name': 'Terri'},\n",
              " {'label': 'male', 'name': 'Terry'},\n",
              " {'label': 'male', 'name': 'Timmie'},\n",
              " {'label': 'male', 'name': 'Tobe'},\n",
              " {'label': 'male', 'name': 'Tobie'},\n",
              " {'label': 'male', 'name': 'Tracie'},\n",
              " {'label': 'male', 'name': 'Vale'},\n",
              " {'label': 'male', 'name': 'Valentin'},\n",
              " {'label': 'male', 'name': 'Valentine'},\n",
              " {'label': 'male', 'name': 'Vinnie'},\n",
              " {'label': 'male', 'name': 'Vinny'},\n",
              " {'label': 'male', 'name': 'Virgie'},\n",
              " {'label': 'male', 'name': 'Vite'},\n",
              " {'label': 'male', 'name': 'Willi'},\n",
              " {'label': 'male', 'name': 'Winnie'},\n",
              " {'label': 'male', 'name': 'Yehudi'},\n",
              " {'label': 'male', 'name': 'Zane'},\n",
              " {'label': 'male', 'name': 'Zebedee'},\n",
              " {'label': 'female', 'name': 'Abbey'},\n",
              " {'label': 'female', 'name': 'Abby'},\n",
              " {'label': 'female', 'name': 'Abigail'},\n",
              " {'label': 'female', 'name': 'Adah'},\n",
              " {'label': 'female', 'name': 'Addie'},\n",
              " {'label': 'female', 'name': 'Adriaens'},\n",
              " {'label': 'female', 'name': 'Ag'},\n",
              " {'label': 'female', 'name': 'Ajay'},\n",
              " {'label': 'female', 'name': 'Alex'},\n",
              " {'label': 'female', 'name': 'Alexis'},\n",
              " {'label': 'female', 'name': 'Alfie'},\n",
              " {'label': 'female', 'name': 'Alison'},\n",
              " {'label': 'female', 'name': 'Alix'},\n",
              " {'label': 'female', 'name': 'Allison'},\n",
              " {'label': 'female', 'name': 'Allyson'},\n",
              " {'label': 'female', 'name': 'Alyson'},\n",
              " {'label': 'female', 'name': 'Amber'},\n",
              " {'label': 'female', 'name': 'Ashleigh'},\n",
              " {'label': 'female', 'name': 'Austin'},\n",
              " {'label': 'female', 'name': 'Averil'},\n",
              " {'label': 'female', 'name': 'Averyl'},\n",
              " {'label': 'female', 'name': 'Avis'},\n",
              " {'label': 'female', 'name': 'Ayn'},\n",
              " {'label': 'female', 'name': 'Bab'},\n",
              " {'label': 'female', 'name': 'Barb'},\n",
              " {'label': 'female', 'name': 'Barby'},\n",
              " {'label': 'female', 'name': 'Barrie'},\n",
              " {'label': 'female', 'name': 'Barry'},\n",
              " {'label': 'female', 'name': 'Beau'},\n",
              " {'label': 'female', 'name': 'Benny'},\n",
              " {'label': 'female', 'name': 'Bert'},\n",
              " {'label': 'female', 'name': 'Bev'},\n",
              " {'label': 'female', 'name': 'Bill'},\n",
              " {'label': 'female', 'name': 'Billy'},\n",
              " {'label': 'female', 'name': 'Bird'},\n",
              " {'label': 'female', 'name': 'Blair'},\n",
              " {'label': 'female', 'name': 'Blake'},\n",
              " {'label': 'female', 'name': 'Bo'},\n",
              " {'label': 'female', 'name': 'Bobby'},\n",
              " {'label': 'female', 'name': 'Brear'},\n",
              " {'label': 'female', 'name': 'Bren'},\n",
              " {'label': 'female', 'name': 'Brett'},\n",
              " {'label': 'female', 'name': 'Bridgett'},\n",
              " {'label': 'female', 'name': 'Brier'},\n",
              " {'label': 'female', 'name': 'Britt'},\n",
              " {'label': 'female', 'name': 'Brook'},\n",
              " {'label': 'female', 'name': 'Brooke'},\n",
              " {'label': 'female', 'name': 'Brooks'},\n",
              " {'label': 'female', 'name': 'Calypso'},\n",
              " {'label': 'female', 'name': 'Cam'},\n",
              " {'label': 'female', 'name': 'Chad'},\n",
              " {'label': 'female', 'name': 'Chandal'},\n",
              " {'label': 'female', 'name': 'Charlott'},\n",
              " {'label': 'female', 'name': 'Charo'},\n",
              " {'label': 'female', 'name': 'Chris'},\n",
              " {'label': 'female', 'name': 'Christan'},\n",
              " {'label': 'female', 'name': 'Christen'},\n",
              " {'label': 'female', 'name': 'Christian'},\n",
              " {'label': 'female', 'name': 'Christin'},\n",
              " {'label': 'female', 'name': 'Chrysler'},\n",
              " {'label': 'female', 'name': 'Clair'},\n",
              " {'label': 'female', 'name': 'Clem'},\n",
              " {'label': 'female', 'name': 'Clemence'},\n",
              " {'label': 'female', 'name': 'Clemmie'},\n",
              " {'label': 'female', 'name': 'Clemmy'},\n",
              " {'label': 'female', 'name': 'Cleo'},\n",
              " {'label': 'female', 'name': 'Clio'},\n",
              " {'label': 'female', 'name': 'Clo'},\n",
              " {'label': 'female', 'name': 'Con'},\n",
              " {'label': 'female', 'name': 'Consuelo'},\n",
              " {'label': 'female', 'name': 'Courtenay'},\n",
              " {'label': 'female', 'name': 'Courtney'},\n",
              " {'label': 'female', 'name': 'Daffy'},\n",
              " {'label': 'female', 'name': 'Dagmar'},\n",
              " {'label': 'female', 'name': 'Dale'},\n",
              " {'label': 'female', 'name': 'Dallas'},\n",
              " {'label': 'female', 'name': 'Daloris'},\n",
              " {'label': 'female', 'name': 'Damaris'},\n",
              " {'label': 'female', 'name': 'Darby'},\n",
              " {'label': 'female', 'name': 'Darcy'},\n",
              " {'label': 'female', 'name': 'Darryl'},\n",
              " {'label': 'female', 'name': 'Daryl'},\n",
              " {'label': 'female', 'name': 'Demeter'},\n",
              " {'label': 'female', 'name': 'Demetris'},\n",
              " {'label': 'female', 'name': 'Dennie'},\n",
              " {'label': 'female', 'name': 'Denny'},\n",
              " {'label': 'female', 'name': 'Devan'},\n",
              " {'label': 'female', 'name': 'Devin'},\n",
              " {'label': 'female', 'name': 'Devon'},\n",
              " {'label': 'female', 'name': 'Dew'},\n",
              " {'label': 'female', 'name': 'Diamond'},\n",
              " {'label': 'female', 'name': 'Dido'},\n",
              " {'label': 'female', 'name': 'Dion'},\n",
              " {'label': 'female', 'name': 'Dionis'},\n",
              " {'label': 'female', 'name': 'Dominique'},\n",
              " {'label': 'female', 'name': 'Dorcas'},\n",
              " {'label': 'female', 'name': 'Drew'},\n",
              " {'label': 'female', 'name': 'Ealasaid'},\n",
              " {'label': 'female', 'name': 'Easter'},\n",
              " {'label': 'female', 'name': 'Eddie'},\n",
              " {'label': 'female', 'name': 'Eddy'},\n",
              " {'label': 'female', 'name': 'Effie'},\n",
              " {'label': 'female', 'name': 'Em'},\n",
              " {'label': 'female', 'name': 'Enid'},\n",
              " {'label': 'female', 'name': 'Eran'},\n",
              " {'label': 'female', 'name': 'Erin'},\n",
              " {'label': 'female', 'name': 'Erinn'},\n",
              " {'label': 'female', 'name': 'Ester'},\n",
              " {'label': 'female', 'name': 'Esther'},\n",
              " {'label': 'female', 'name': 'Ethelind'},\n",
              " {'label': 'female', 'name': 'Eugenie'},\n",
              " {'label': 'female', 'name': 'Evey'},\n",
              " {'label': 'female', 'name': 'Farand'},\n",
              " {'label': 'female', 'name': 'Felicdad'},\n",
              " {'label': 'female', 'name': 'Fern'},\n",
              " {'label': 'female', 'name': 'Flor'},\n",
              " {'label': 'female', 'name': 'Flower'},\n",
              " {'label': 'female', 'name': 'Fran'},\n",
              " {'label': 'female', 'name': 'France'},\n",
              " {'label': 'female', 'name': 'Frances'},\n",
              " {'label': 'female', 'name': 'Francis'},\n",
              " {'label': 'female', 'name': 'Frank'},\n",
              " {'label': 'female', 'name': 'Frankie'},\n",
              " {'label': 'female', 'name': 'Franky'},\n",
              " {'label': 'female', 'name': 'Fred'},\n",
              " {'label': 'female', 'name': 'Freddy'},\n",
              " {'label': 'female', 'name': 'Friederike'},\n",
              " {'label': 'female', 'name': 'Gabriel'},\n",
              " {'label': 'female', 'name': 'Gabriell'},\n",
              " {'label': 'female', 'name': 'Gaby'},\n",
              " {'label': 'female', 'name': 'Gael'},\n",
              " {'label': 'female', 'name': 'Gail'},\n",
              " {'label': 'female', 'name': 'Gale'},\n",
              " {'label': 'female', 'name': 'Garland'},\n",
              " {'label': 'female', 'name': 'Garnet'},\n",
              " {'label': 'female', 'name': 'Gates'},\n",
              " {'label': 'female', 'name': 'Gay'},\n",
              " {'label': 'female', 'name': 'Gaynor'},\n",
              " {'label': 'female', 'name': 'Gen'},\n",
              " {'label': 'female', 'name': 'George'},\n",
              " {'label': 'female', 'name': 'Georgiamay'},\n",
              " {'label': 'female', 'name': 'Gerry'},\n",
              " {'label': 'female', 'name': 'Gert'},\n",
              " {'label': 'female', 'name': 'Gill'},\n",
              " {'label': 'female', 'name': 'Gillan'},\n",
              " {'label': 'female', 'name': 'Gillian'},\n",
              " {'label': 'female', 'name': 'Gilligan'},\n",
              " {'label': 'female', 'name': 'Ginger'},\n",
              " {'label': 'female', 'name': 'Glad'},\n",
              " {'label': 'female', 'name': 'Grace'},\n",
              " {'label': 'female', 'name': 'Gray'},\n",
              " {'label': 'female', 'name': 'Greer'},\n",
              " {'label': 'female', 'name': 'Gretchen'},\n",
              " {'label': 'female', 'name': 'Grier'},\n",
              " {'label': 'female', 'name': 'Grissel'},\n",
              " {'label': 'female', 'name': 'Gui'},\n",
              " {'label': 'female', 'name': 'Guinevere'},\n",
              " {'label': 'female', 'name': 'Gunvor'},\n",
              " {'label': 'female', 'name': 'Gus'},\n",
              " {'label': 'female', 'name': 'Gusty'},\n",
              " {'label': 'female', 'name': 'Haily'},\n",
              " {'label': 'female', 'name': 'Haleigh'},\n",
              " {'label': 'female', 'name': 'Haley'},\n",
              " {'label': 'female', 'name': 'Halley'},\n",
              " {'label': 'female', 'name': 'Harley'},\n",
              " {'label': 'female', 'name': 'Harriet'},\n",
              " {'label': 'female', 'name': 'Harriett'},\n",
              " {'label': 'female', 'name': 'Harriot'},\n",
              " {'label': 'female', 'name': 'Harriott'},\n",
              " {'label': 'female', 'name': 'Hayley'},\n",
              " {'label': 'female', 'name': 'Heath'},\n",
              " {'label': 'female', 'name': 'Heather'},\n",
              " {'label': 'female', 'name': 'Hedvig'},\n",
              " {'label': 'female', 'name': 'Hedwig'},\n",
              " {'label': 'female', 'name': 'Hedy'},\n",
              " {'label': 'female', 'name': 'Henrie'},\n",
              " {'label': 'female', 'name': 'Hermione'},\n",
              " {'label': 'female', 'name': 'Hester'},\n",
              " {'label': 'female', 'name': 'Hesther'},\n",
              " {'label': 'female', 'name': 'Hilarie'},\n",
              " {'label': 'female', 'name': 'Hilary'},\n",
              " {'label': 'female', 'name': 'Hildagard'},\n",
              " {'label': 'female', 'name': 'Hildegaard'},\n",
              " {'label': 'female', 'name': 'Hillary'},\n",
              " {'label': 'female', 'name': 'Hilliary'},\n",
              " {'label': 'female', 'name': 'Honey'},\n",
              " {'label': 'female', 'name': 'Honor'},\n",
              " {'label': 'female', 'name': 'Hope'},\n",
              " {'label': 'female', 'name': 'Ike'},\n",
              " {'label': 'female', 'name': 'Ikey'},\n",
              " {'label': 'female', 'name': 'Imojean'},\n",
              " {'label': 'female', 'name': 'Ingaberg'},\n",
              " {'label': 'female', 'name': 'Ingaborg'},\n",
              " {'label': 'female', 'name': 'Inger'},\n",
              " {'label': 'female', 'name': 'Ingrid'},\n",
              " {'label': 'female', 'name': 'Isador'},\n",
              " {'label': 'female', 'name': 'Jan'},\n",
              " {'label': 'female', 'name': 'Jean'},\n",
              " {'label': 'female', 'name': 'Jen'},\n",
              " {'label': 'female', 'name': 'Jere'},\n",
              " {'label': 'female', 'name': 'Jerry'},\n",
              " {'label': 'female', 'name': 'Jess'},\n",
              " {'label': 'female', 'name': 'Jody'},\n",
              " {'label': 'female', 'name': 'Joey'},\n",
              " {'label': 'female', 'name': 'Jonell'},\n",
              " {'label': 'female', 'name': 'Jordain'},\n",
              " {'label': 'female', 'name': 'Jordan'},\n",
              " {'label': 'female', 'name': 'Jorey'},\n",
              " {'label': 'female', 'name': 'Jourdan'},\n",
              " {'label': 'female', 'name': 'Joy'},\n",
              " {'label': 'female', 'name': 'Jude'},\n",
              " {'label': 'female', 'name': 'Justin'},\n",
              " {'label': 'female', 'name': 'Kaster'},\n",
              " {'label': 'female', 'name': 'Kim'},\n",
              " {'label': 'female', 'name': 'Kip'},\n",
              " {'label': 'female', 'name': 'Kipp'},\n",
              " {'label': 'female', 'name': 'Lark'},\n",
              " {'label': 'female', 'name': 'Leigh'},\n",
              " {'label': 'female', 'name': 'Leland'},\n",
              " {'label': 'female', 'name': 'Lesly'},\n",
              " {'label': 'female', 'name': 'Lind'},\n",
              " {'label': 'female', 'name': 'Lou'},\n",
              " {'label': 'female', 'name': 'Luce'},\n",
              " {'label': 'female', 'name': 'Lust'},\n",
              " {'label': 'female', 'name': 'Marigold'},\n",
              " {'label': 'female', 'name': 'Marion'},\n",
              " {'label': 'female', 'name': 'Marlo'},\n",
              " {'label': 'female', 'name': 'Matty'},\n",
              " {'label': 'female', 'name': 'Maud'},\n",
              " {'label': 'female', 'name': 'Max'},\n",
              " {'label': 'female', 'name': 'Mead'},\n",
              " {'label': 'female', 'name': 'Michell'},\n",
              " {'label': 'female', 'name': 'Mickie'},\n",
              " {'label': 'female', 'name': 'Micky'},\n",
              " {'label': 'female', 'name': 'Midge'},\n",
              " {'label': 'female', 'name': 'Mikako'},\n",
              " {'label': 'female', 'name': 'Mildred'},\n",
              " {'label': 'female', 'name': 'Milicent'},\n",
              " {'label': 'female', 'name': 'Milissent'},\n",
              " {'label': 'female', 'name': 'Millicent'},\n",
              " {'label': 'female', 'name': 'Millisent'},\n",
              " {'label': 'female', 'name': 'Muffin'},\n",
              " {'label': 'female', 'name': 'Mureil'},\n",
              " {'label': 'female', 'name': 'Nan'},\n",
              " {'label': 'female', 'name': 'Nat'},\n",
              " {'label': 'female', 'name': 'Nert'},\n",
              " {'label': 'female', 'name': 'Nichol'},\n",
              " {'label': 'female', 'name': 'Nichole'},\n",
              " {'label': 'female', 'name': 'Nicky'},\n",
              " {'label': 'female', 'name': 'Nil'},\n",
              " {'label': 'female', 'name': 'Ninon'},\n",
              " {'label': 'female', 'name': 'Page'},\n",
              " {'label': 'female', 'name': 'Paige'},\n",
              " {'label': 'female', 'name': 'Pam'},\n",
              " {'label': 'female', 'name': 'Pat'},\n",
              " {'label': 'female', 'name': 'Patience'},\n",
              " {'label': 'female', 'name': 'Peg'},\n",
              " {'label': 'female', 'name': 'Pen'},\n",
              " {'label': 'female', 'name': 'Penny'},\n",
              " {'label': 'female', 'name': 'Pepi'},\n",
              " {'label': 'female', 'name': 'Perry'},\n",
              " {'label': 'female', 'name': 'Pet'},\n",
              " {'label': 'female', 'name': 'Phil'},\n",
              " {'label': 'female', 'name': 'Philis'},\n",
              " {'label': 'female', 'name': 'Phillis'},\n",
              " {'label': 'female', 'name': 'Pier'},\n",
              " {'label': 'female', 'name': 'Piper'},\n",
              " {'label': 'female', 'name': 'Pooh'},\n",
              " {'label': 'female', 'name': 'Pris'},\n",
              " {'label': 'female', 'name': 'Queenie'},\n",
              " {'label': 'female', 'name': 'Quentin'},\n",
              " {'label': 'female', 'name': 'Quinn'},\n",
              " {'label': 'female', 'name': 'Raf'},\n",
              " {'label': 'female', 'name': 'Ragnhild'},\n",
              " {'label': 'female', 'name': 'Rakel'},\n",
              " {'label': 'female', 'name': 'Randie'},\n",
              " {'label': 'female', 'name': 'Randy'},\n",
              " {'label': 'female', 'name': 'Raquel'},\n",
              " {'label': 'female', 'name': 'Raven'},\n",
              " {'label': 'female', 'name': 'Ray'},\n",
              " {'label': 'female', 'name': 'Raychel'},\n",
              " {'label': 'female', 'name': 'Raynell'},\n",
              " {'label': 'female', 'name': 'Rayshell'},\n",
              " {'label': 'female', 'name': 'Regan'},\n",
              " {'label': 'female', 'name': 'Reggie'},\n",
              " {'label': 'female', 'name': 'Remy'},\n",
              " {'label': 'female', 'name': 'Rey'},\n",
              " {'label': 'female', 'name': 'Ricki'},\n",
              " {'label': 'female', 'name': 'Rickie'},\n",
              " {'label': 'female', 'name': 'Ricky'},\n",
              " {'label': 'female', 'name': 'Riki'},\n",
              " {'label': 'female', 'name': 'Rikki'},\n",
              " {'label': 'female', 'name': 'Robbin'},\n",
              " {'label': 'female', 'name': 'Robinett'},\n",
              " {'label': 'female', 'name': 'Roch'},\n",
              " {'label': 'female', 'name': 'Rochell'},\n",
              " {'label': 'female', 'name': 'Rory'},\n",
              " {'label': 'female', 'name': 'Ros'},\n",
              " {'label': 'female', 'name': 'Row'},\n",
              " {'label': 'female', 'name': 'Rowe'},\n",
              " {'label': 'female', 'name': 'Roz'},\n",
              " {'label': 'female', 'name': 'Rozamond'},\n",
              " {'label': 'female', 'name': 'Ruby'},\n",
              " {'label': 'female', 'name': 'Ruth'},\n",
              " {'label': 'female', 'name': 'Sal'},\n",
              " {'label': 'female', 'name': 'Salome'},\n",
              " {'label': 'female', 'name': 'Sam'},\n",
              " {'label': 'female', 'name': 'Sammy'},\n",
              " {'label': 'female', 'name': 'Sayre'},\n",
              " {'label': 'female', 'name': 'Scarlett'},\n",
              " {'label': 'female', 'name': 'Scotty'},\n",
              " {'label': 'female', 'name': 'Sean'},\n",
              " {'label': 'female', 'name': 'Shamit'},\n",
              " {'label': 'female', 'name': 'Shannon'},\n",
              " {'label': 'female', 'name': 'Sharon'},\n",
              " {'label': 'female', 'name': 'Sharron'},\n",
              " {'label': 'female', 'name': 'Shel'},\n",
              " {'label': 'female', 'name': 'Shelby'},\n",
              " {'label': 'female', 'name': 'Shell'},\n",
              " {'label': 'female', 'name': 'Sher'},\n",
              " {'label': 'female', 'name': 'Sherill'},\n",
              " {'label': 'female', 'name': 'Sib'},\n",
              " {'label': 'female', 'name': 'Sigrid'},\n",
              " {'label': 'female', 'name': 'Sileas'},\n",
              " {'label': 'female', 'name': 'Silvie'},\n",
              " {'label': 'female', 'name': 'Simone'},\n",
              " {'label': 'female', 'name': 'Sinead'},\n",
              " {'label': 'female', 'name': 'Siobhan'},\n",
              " {'label': 'female', 'name': 'Solange'},\n",
              " {'label': 'female', 'name': 'Stace'},\n",
              " {'label': 'female', 'name': 'Stacey'},\n",
              " {'label': 'female', 'name': 'Stacy'},\n",
              " {'label': 'female', 'name': 'Star'},\n",
              " {'label': 'female', 'name': 'Starr'},\n",
              " {'label': 'female', 'name': 'Steffie'},\n",
              " {'label': 'female', 'name': 'Stoddard'},\n",
              " {'label': 'female', 'name': 'Storm'},\n",
              " {'label': 'female', 'name': 'Sydney'},\n",
              " {'label': 'female', 'name': 'Tabby'},\n",
              " {'label': 'female', 'name': 'Tamar'},\n",
              " {'label': 'female', 'name': 'Tammy'},\n",
              " {'label': 'female', 'name': 'Teane'},\n",
              " {'label': 'female', 'name': 'Ted'},\n",
              " {'label': 'female', 'name': 'Teddy'},\n",
              " {'label': 'female', 'name': 'Theo'},\n",
              " {'label': 'female', 'name': 'Thomasin'},\n",
              " {'label': 'female', 'name': 'Tiff'},\n",
              " {'label': 'female', 'name': 'Tim'},\n",
              " {'label': 'female', 'name': 'Timmy'},\n",
              " {'label': 'female', 'name': 'Toby'},\n",
              " {'label': 'female', 'name': 'Tommie'},\n",
              " {'label': 'female', 'name': 'Tommy'},\n",
              " {'label': 'female', 'name': 'Tony'},\n",
              " {'label': 'female', 'name': 'Torey'},\n",
              " {'label': 'female', 'name': 'Torrie'},\n",
              " {'label': 'female', 'name': 'Tory'},\n",
              " {'label': 'female', 'name': 'Trace'},\n",
              " {'label': 'female', 'name': 'Tracey'},\n",
              " {'label': 'female', 'name': 'Tracy'},\n",
              " {'label': 'female', 'name': 'Trish'},\n",
              " {'label': 'female', 'name': 'Tybi'},\n",
              " {'label': 'female', 'name': 'Tybie'},\n",
              " {'label': 'female', 'name': 'Ulrike'},\n",
              " {'label': 'female', 'name': 'Val'},\n",
              " {'label': 'female', 'name': 'Van'},\n",
              " {'label': 'female', 'name': 'Venus'},\n",
              " {'label': 'female', 'name': 'Vin'},\n",
              " {'label': 'female', 'name': 'Wallie'},\n",
              " {'label': 'female', 'name': 'Wallis'},\n",
              " {'label': 'female', 'name': 'Wally'},\n",
              " {'label': 'female', 'name': 'Waly'},\n",
              " {'label': 'female', 'name': 'Wandie'},\n",
              " {'label': 'female', 'name': 'Wandis'},\n",
              " {'label': 'female', 'name': 'Wendy'},\n",
              " {'label': 'female', 'name': 'Whitney'},\n",
              " {'label': 'female', 'name': 'Wileen'},\n",
              " {'label': 'female', 'name': 'Willie'},\n",
              " {'label': 'female', 'name': 'Willow'},\n",
              " {'label': 'female', 'name': 'Willy'},\n",
              " {'label': 'female', 'name': 'Willyt'},\n",
              " {'label': 'female', 'name': 'Wilow'},\n",
              " {'label': 'female', 'name': 'Windy'},\n",
              " {'label': 'female', 'name': 'Wini'},\n",
              " {'label': 'female', 'name': 'Winifred'},\n",
              " {'label': 'female', 'name': 'Winnifred'},\n",
              " {'label': 'female', 'name': 'Winny'},\n",
              " {'label': 'female', 'name': 'Wren'},\n",
              " {'label': 'female', 'name': 'Wrennie'},\n",
              " {'label': 'female', 'name': 'Wynn'},\n",
              " {'label': 'female', 'name': 'Wynny'},\n",
              " {'label': 'female', 'name': 'Yehudit'}]"
            ]
          },
          "metadata": {
            "tags": []
          },
          "execution_count": 64
        }
      ]
    },
    {
      "cell_type": "markdown",
      "metadata": {
        "id": "D1o26db3JdaA",
        "colab_type": "text"
      },
      "source": [
        "** 5.2 Sentiment Analysis **"
      ]
    },
    {
      "cell_type": "code",
      "metadata": {
        "id": "28bnQ2ZPJdaB",
        "colab_type": "code",
        "colab": {
          "base_uri": "https://localhost:8080/",
          "height": 51
        },
        "outputId": "735cc9ef-fd29-46f9-907d-4038c9500603"
      },
      "source": [
        "# movie reviews / sentiment analysis - part #1\n",
        "from nltk.corpus import movie_reviews as reviews\n",
        "import random\n",
        "nltk.download('movie_reviews')\n",
        "docs = [(list(reviews.words(id)), cat)  for cat in reviews.categories() for id in reviews.fileids(cat)]\n",
        "random.shuffle(docs)\n",
        "\n",
        "#print([ (len(d[0]), d[0][:2], d[1]) for d in docs[:10]])\n",
        "\n",
        "fd = nltk.FreqDist(word.lower() for word in reviews.words())\n",
        "topKeys = [ key for (key,value) in fd.most_common(2000)]\n"
      ],
      "execution_count": 66,
      "outputs": [
        {
          "output_type": "stream",
          "text": [
            "[nltk_data] Downloading package movie_reviews to /root/nltk_data...\n",
            "[nltk_data]   Unzipping corpora/movie_reviews.zip.\n"
          ],
          "name": "stdout"
        }
      ]
    },
    {
      "cell_type": "code",
      "metadata": {
        "id": "50yB-zzmJdaF",
        "colab_type": "code",
        "colab": {
          "base_uri": "https://localhost:8080/",
          "height": 408
        },
        "outputId": "83385869-a74c-4c26-8976-8044bbcafef0"
      },
      "source": [
        "# movie reviews sentiment analysis - part #2\n",
        "import nltk\n",
        "\n",
        "\n",
        "def review_features(doc):\n",
        "    docSet = set(doc)\n",
        "    features = {}\n",
        "    \n",
        "    for word in topKeys:\n",
        "        features[word] = (word in docSet)\n",
        "        \n",
        "    return features\n",
        "\n",
        "#review_features(reviews.words(\"pos/cv957_8737.txt\"))\n",
        "\n",
        "data = [(review_features(doc), label) for (doc,label) in docs]\n",
        "\n",
        "dataCount = len(data)\n",
        "trainCount = int(.8*dataCount)\n",
        "\n",
        "trainData = data[:trainCount]\n",
        "testData = data[trainCount:]\n",
        "bayes2 = nltk.NaiveBayesClassifier.train(trainData)\n",
        "\n",
        "print(\"train accuracy=\", nltk.classify.accuracy(bayes2, trainData))\n",
        "print(\"test accuracy=\", nltk.classify.accuracy(bayes2, testData))\n",
        "\n",
        "bayes2.show_most_informative_features(20)\n"
      ],
      "execution_count": 67,
      "outputs": [
        {
          "output_type": "stream",
          "text": [
            "train accuracy= 0.86125\n",
            "test accuracy= 0.7975\n",
            "Most Informative Features\n",
            "                  seagal = True              neg : pos    =     12.3 : 1.0\n",
            "             outstanding = True              pos : neg    =     10.0 : 1.0\n",
            "                   mulan = True              pos : neg    =      8.6 : 1.0\n",
            "             wonderfully = True              pos : neg    =      6.9 : 1.0\n",
            "                     era = True              pos : neg    =      6.2 : 1.0\n",
            "                   damon = True              pos : neg    =      6.1 : 1.0\n",
            "                  wasted = True              neg : pos    =      5.6 : 1.0\n",
            "                   snake = True              neg : pos    =      5.0 : 1.0\n",
            "                   awful = True              neg : pos    =      4.7 : 1.0\n",
            "                   bland = True              neg : pos    =      4.7 : 1.0\n",
            "              ridiculous = True              neg : pos    =      4.7 : 1.0\n",
            "                   lucas = True              pos : neg    =      4.5 : 1.0\n",
            "                   waste = True              neg : pos    =      4.4 : 1.0\n",
            "                    lame = True              neg : pos    =      4.4 : 1.0\n",
            "                   worst = True              neg : pos    =      4.2 : 1.0\n",
            "                  poorly = True              neg : pos    =      4.2 : 1.0\n",
            "               laughable = True              neg : pos    =      4.2 : 1.0\n",
            "                  superb = True              pos : neg    =      4.1 : 1.0\n",
            "                terrible = True              neg : pos    =      4.0 : 1.0\n",
            "               pointless = True              neg : pos    =      4.0 : 1.0\n"
          ],
          "name": "stdout"
        }
      ]
    },
    {
      "cell_type": "markdown",
      "metadata": {
        "id": "6z1l83kSJdaK",
        "colab_type": "text"
      },
      "source": [
        "** 5.3 Named Entity Recognition (NER) **\n",
        "\n",
        "Popular Named Entity Types:\n",
        "  - ORGANIZATION\n",
        "  - PERSON\n",
        "  - LOCATION\n",
        "  - GPE\n",
        "  - DATE\n",
        "  \n",
        "Named Entity Extraction Techniques:\n",
        "  - Chunking (tag pattern to group)\n",
        "  - Chinking (tag pattern to omit)\n",
        "  - Nested chunks (recursion)\n",
        "  - Hand-crafted rules\n",
        "  - Rules learned from data"
      ]
    },
    {
      "cell_type": "code",
      "metadata": {
        "id": "ogjpFm7nJdaL",
        "colab_type": "code",
        "colab": {
          "base_uri": "https://localhost:8080/",
          "height": 54
        },
        "outputId": "19434bda-3a04-4a4d-ac58-38e29ff9c006"
      },
      "source": [
        "# Named Entity Regcognition (NER) \n",
        "# processes sentences and produces (entity, relation, entity) triples!\n",
        "import nltk\n",
        "\n",
        "# first, process the document by separating the text into sentences, then words within sentences, then tag words by sentence\n",
        "def preprocess(doc):\n",
        "    sents = nltk.sent_tokenize(doc) \n",
        "    sents2 = [nltk.word_tokenize(sent) for sent in sents]\n",
        "    sents3 = [nltk.pos_tag(sent) for sent in sents2]\n",
        "    \n",
        "# we are going to use a technique called CHUNKING where we label sequences of POS tags as a high level tag, like a \n",
        "# noun phrase (NP).  \n",
        "\n",
        "# here we test our idea with a simple sentence, and a grammar for detectecting NP.  The grammar:\n",
        "#  <NP>  ::= [ <DT> ] [ <JJ list> ] <NN>\n",
        "\n",
        "tagged_sent = [(\"the\", \"DT\"), (\"little\", \"JJ\"), (\"yellow\", \"JJ\"), (\"dog\", \"NN\"), (\"barked\", \"VBD\"), (\"at\", \"IN\"),\n",
        "              (\"the\", \"DT\"), (\"cat\", \"NN\")]\n",
        "\n",
        "#np_grammar = \"NP: {<DT>?<JJ>*<NN>}\"\n",
        "#np_grammar = \"NP: {<DT>?<JJ.*>*<NN.*>*}\"\n",
        "\n",
        "np_grammar = r\"\"\" \n",
        "    NP:  \n",
        "      {<DT|PP\\$>?<JJ>*<NN>}\n",
        "      {<NPP>+}\n",
        "      \"\"\"\n",
        "\n",
        "parser = nltk.RegexpParser(np_grammar)\n",
        "result = parser.parse(tagged_sent)\n",
        "\n",
        "print(result.__repr__())\n"
      ],
      "execution_count": 68,
      "outputs": [
        {
          "output_type": "stream",
          "text": [
            "Tree('S', [Tree('NP', [('the', 'DT'), ('little', 'JJ'), ('yellow', 'JJ'), ('dog', 'NN')]), ('barked', 'VBD'), ('at', 'IN'), Tree('NP', [('the', 'DT'), ('cat', 'NN')])])\n"
          ],
          "name": "stdout"
        }
      ]
    }
  ]
}